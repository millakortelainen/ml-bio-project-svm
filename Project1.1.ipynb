{
 "cells": [
  {
   "cell_type": "code",
   "execution_count": 1,
   "metadata": {
    "ExecuteTime": {
     "end_time": "2022-02-22T08:41:07.203979Z",
     "start_time": "2022-02-22T08:41:07.197701Z"
    }
   },
   "outputs": [],
   "source": [
    "import pandas as pd\n",
    "import re\n",
    "import matplotlib.pyplot as plt\n",
    "import matplotlib.colors as colors\n",
    "import seaborn as sns\n",
    "import sys\n",
    "import scipy\n",
    "import numpy as np\n",
    "import sklearn\n",
    "from matplotlib import pyplot\n",
    "from sklearn.model_selection import train_test_split\n",
    "from sklearn.model_selection import GridSearchCV\n",
    "from sklearn.preprocessing import scale\n",
    "from sklearn.svm import SVC\n",
    "from sklearn.metrics import confusion_matrix\n",
    "from sklearn.metrics import plot_confusion_matrix\n",
    "from sklearn.decomposition import PCA\n",
    "from sklearn.utils import resample"
   ]
  },
  {
   "cell_type": "markdown",
   "metadata": {},
   "source": [
    "## Activities"
   ]
  },
  {
   "cell_type": "code",
   "execution_count": 2,
   "metadata": {
    "ExecuteTime": {
     "end_time": "2022-02-22T08:41:07.227551Z",
     "start_time": "2022-02-22T08:41:07.206690Z"
    }
   },
   "outputs": [
    {
     "name": "stdout",
     "output_type": "stream",
     "text": [
      "(1865, 68)\n"
     ]
    }
   ],
   "source": [
    "dataset_WGS_Other_act = pd.read_csv('./project_data/activities/WGS/WGS_Other.activities.csv')\n",
    "print(dataset_WGS_Other_act.shape)"
   ]
  },
  {
   "cell_type": "code",
   "execution_count": 3,
   "metadata": {
    "ExecuteTime": {
     "end_time": "2022-02-22T08:41:07.250953Z",
     "start_time": "2022-02-22T08:41:07.229301Z"
    }
   },
   "outputs": [
    {
     "name": "stdout",
     "output_type": "stream",
     "text": [
      "(2780, 68)\n"
     ]
    }
   ],
   "source": [
    "dataset_WGS_PCAWG_act = pd.read_csv('./project_data/activities/WGS/WGS_PCAWG.activities.csv')\n",
    "print(dataset_WGS_PCAWG_act.shape)"
   ]
  },
  {
   "cell_type": "code",
   "execution_count": 4,
   "metadata": {
    "ExecuteTime": {
     "end_time": "2022-02-22T08:41:07.297952Z",
     "start_time": "2022-02-22T08:41:07.252557Z"
    }
   },
   "outputs": [
    {
     "name": "stdout",
     "output_type": "stream",
     "text": [
      "(9691, 68)\n"
     ]
    }
   ],
   "source": [
    "dataset_WES_Other_act = pd.read_csv('./project_data/activities/WES/WES_Other.activities.csv')\n",
    "print(dataset_WES_Other_act.shape)"
   ]
  },
  {
   "cell_type": "code",
   "execution_count": 5,
   "metadata": {
    "ExecuteTime": {
     "end_time": "2022-02-22T08:41:07.360885Z",
     "start_time": "2022-02-22T08:41:07.299685Z"
    }
   },
   "outputs": [
    {
     "name": "stdout",
     "output_type": "stream",
     "text": [
      "(9493, 68)\n"
     ]
    }
   ],
   "source": [
    "dataset_WES_TCGA_act = pd.read_csv('./project_data/activities/WES/WES_TCGA.activities.csv')\n",
    "print(dataset_WES_TCGA_act.shape)"
   ]
  },
  {
   "cell_type": "markdown",
   "metadata": {},
   "source": [
    "## Catalogs"
   ]
  },
  {
   "cell_type": "code",
   "execution_count": 6,
   "metadata": {
    "ExecuteTime": {
     "end_time": "2022-02-22T08:41:07.471523Z",
     "start_time": "2022-02-22T08:41:07.362710Z"
    }
   },
   "outputs": [],
   "source": [
    "nonPCAWG_wgs_mut = pd.read_csv('./project_data/catalogs/WGS/WGS_Other.96.csv')"
   ]
  },
  {
   "cell_type": "code",
   "execution_count": 7,
   "metadata": {
    "ExecuteTime": {
     "end_time": "2022-02-22T08:41:07.623486Z",
     "start_time": "2022-02-22T08:41:07.473807Z"
    }
   },
   "outputs": [],
   "source": [
    "PCAWG_wgs_mut = pd.read_csv('./project_data/catalogs/WGS/WGS_PCAWG.96.csv')"
   ]
  },
  {
   "cell_type": "code",
   "execution_count": 8,
   "metadata": {
    "ExecuteTime": {
     "end_time": "2022-02-22T08:41:08.202207Z",
     "start_time": "2022-02-22T08:41:07.625434Z"
    }
   },
   "outputs": [
    {
     "name": "stdout",
     "output_type": "stream",
     "text": [
      "(96, 9693)\n"
     ]
    }
   ],
   "source": [
    "dataset_WES_Other_act = pd.read_csv('./project_data/catalogs/WES/WES_Other.96.csv')\n",
    "print(dataset_WES_Other_act.shape)"
   ]
  },
  {
   "cell_type": "code",
   "execution_count": 9,
   "metadata": {
    "ExecuteTime": {
     "end_time": "2022-02-22T08:41:08.804290Z",
     "start_time": "2022-02-22T08:41:08.203988Z"
    }
   },
   "outputs": [
    {
     "name": "stdout",
     "output_type": "stream",
     "text": [
      "(96, 9495)\n"
     ]
    }
   ],
   "source": [
    "dataset_WES_TCGA_act = pd.read_csv('./project_data/catalogs/WES/WES_TCGA.96.csv')\n",
    "print(dataset_WES_TCGA_act.shape)"
   ]
  },
  {
   "cell_type": "code",
   "execution_count": 10,
   "metadata": {
    "ExecuteTime": {
     "end_time": "2022-02-22T08:41:08.845259Z",
     "start_time": "2022-02-22T08:41:08.806071Z"
    }
   },
   "outputs": [],
   "source": [
    "### Aggregate mutation type and trinucleotides to one column\n",
    "PCAWG_wgs_mut['tri_mut'] = PCAWG_wgs_mut[['Mutation type', 'Trinucleotide']].agg('_'.join, axis=1)\n",
    "# \n",
    "nonPCAWG_wgs_mut['tri_mut'] = nonPCAWG_wgs_mut[['Mutation type', 'Trinucleotide']].agg('_'.join, axis=1)\n",
    "# Concatenate both mutation count data sets\n",
    "#total_wgs_mut = pd.concat([PCAWG_wgs_mut, nonPCAWG_wgs_mut], axis=1)\n",
    "#total_wgs_mut.shape\n",
    "#(96, 4651)\n",
    "### Get cancer types\n",
    "new_list = [re.sub(r'\\:.*', '', i) for i in PCAWG_wgs_mut.columns]\n",
    "# Transpose\n",
    "PCAWG_wgs_mut_T = PCAWG_wgs_mut.T\n",
    "# Rename columns\n",
    "PCAWG_wgs_mut_T.columns = PCAWG_wgs_mut[\"tri_mut\"]\n",
    "PCAWG_wgs_mut_T[\"label\"] = new_list[:]\n",
    "PCAWG_wgs_mut_T = PCAWG_wgs_mut_T.iloc[2:,:] # we don't need to first 2 rows"
   ]
  },
  {
   "cell_type": "code",
   "execution_count": 11,
   "metadata": {
    "ExecuteTime": {
     "end_time": "2022-02-22T08:41:08.881127Z",
     "start_time": "2022-02-22T08:41:08.846548Z"
    }
   },
   "outputs": [
    {
     "data": {
      "text/html": [
       "<div>\n",
       "<style scoped>\n",
       "    .dataframe tbody tr th:only-of-type {\n",
       "        vertical-align: middle;\n",
       "    }\n",
       "\n",
       "    .dataframe tbody tr th {\n",
       "        vertical-align: top;\n",
       "    }\n",
       "\n",
       "    .dataframe thead th {\n",
       "        text-align: right;\n",
       "    }\n",
       "</style>\n",
       "<table border=\"1\" class=\"dataframe\">\n",
       "  <thead>\n",
       "    <tr style=\"text-align: right;\">\n",
       "      <th>tri_mut</th>\n",
       "      <th>C&gt;A_ACA</th>\n",
       "      <th>C&gt;A_ACC</th>\n",
       "      <th>C&gt;A_ACG</th>\n",
       "      <th>C&gt;A_ACT</th>\n",
       "      <th>C&gt;A_CCA</th>\n",
       "      <th>C&gt;A_CCC</th>\n",
       "      <th>C&gt;A_CCG</th>\n",
       "      <th>C&gt;A_CCT</th>\n",
       "      <th>C&gt;A_GCA</th>\n",
       "      <th>C&gt;A_GCC</th>\n",
       "      <th>...</th>\n",
       "      <th>T&gt;G_CTT</th>\n",
       "      <th>T&gt;G_GTA</th>\n",
       "      <th>T&gt;G_GTC</th>\n",
       "      <th>T&gt;G_GTG</th>\n",
       "      <th>T&gt;G_GTT</th>\n",
       "      <th>T&gt;G_TTA</th>\n",
       "      <th>T&gt;G_TTC</th>\n",
       "      <th>T&gt;G_TTG</th>\n",
       "      <th>T&gt;G_TTT</th>\n",
       "      <th>label</th>\n",
       "    </tr>\n",
       "  </thead>\n",
       "  <tbody>\n",
       "    <tr>\n",
       "      <th>Biliary-AdenoCA::SP117655</th>\n",
       "      <td>269</td>\n",
       "      <td>148</td>\n",
       "      <td>25</td>\n",
       "      <td>154</td>\n",
       "      <td>215</td>\n",
       "      <td>148</td>\n",
       "      <td>27</td>\n",
       "      <td>180</td>\n",
       "      <td>165</td>\n",
       "      <td>76</td>\n",
       "      <td>...</td>\n",
       "      <td>268</td>\n",
       "      <td>19</td>\n",
       "      <td>17</td>\n",
       "      <td>43</td>\n",
       "      <td>89</td>\n",
       "      <td>83</td>\n",
       "      <td>48</td>\n",
       "      <td>63</td>\n",
       "      <td>197</td>\n",
       "      <td>Biliary-AdenoCA</td>\n",
       "    </tr>\n",
       "    <tr>\n",
       "      <th>Biliary-AdenoCA::SP117556</th>\n",
       "      <td>114</td>\n",
       "      <td>56</td>\n",
       "      <td>13</td>\n",
       "      <td>70</td>\n",
       "      <td>63</td>\n",
       "      <td>49</td>\n",
       "      <td>7</td>\n",
       "      <td>69</td>\n",
       "      <td>81</td>\n",
       "      <td>37</td>\n",
       "      <td>...</td>\n",
       "      <td>53</td>\n",
       "      <td>8</td>\n",
       "      <td>5</td>\n",
       "      <td>20</td>\n",
       "      <td>15</td>\n",
       "      <td>26</td>\n",
       "      <td>10</td>\n",
       "      <td>31</td>\n",
       "      <td>64</td>\n",
       "      <td>Biliary-AdenoCA</td>\n",
       "    </tr>\n",
       "    <tr>\n",
       "      <th>Biliary-AdenoCA::SP117627</th>\n",
       "      <td>105</td>\n",
       "      <td>71</td>\n",
       "      <td>13</td>\n",
       "      <td>73</td>\n",
       "      <td>71</td>\n",
       "      <td>55</td>\n",
       "      <td>8</td>\n",
       "      <td>61</td>\n",
       "      <td>61</td>\n",
       "      <td>50</td>\n",
       "      <td>...</td>\n",
       "      <td>44</td>\n",
       "      <td>7</td>\n",
       "      <td>6</td>\n",
       "      <td>14</td>\n",
       "      <td>14</td>\n",
       "      <td>16</td>\n",
       "      <td>8</td>\n",
       "      <td>15</td>\n",
       "      <td>52</td>\n",
       "      <td>Biliary-AdenoCA</td>\n",
       "    </tr>\n",
       "    <tr>\n",
       "      <th>Biliary-AdenoCA::SP117775</th>\n",
       "      <td>217</td>\n",
       "      <td>123</td>\n",
       "      <td>29</td>\n",
       "      <td>126</td>\n",
       "      <td>129</td>\n",
       "      <td>82</td>\n",
       "      <td>26</td>\n",
       "      <td>143</td>\n",
       "      <td>162</td>\n",
       "      <td>84</td>\n",
       "      <td>...</td>\n",
       "      <td>132</td>\n",
       "      <td>21</td>\n",
       "      <td>7</td>\n",
       "      <td>28</td>\n",
       "      <td>34</td>\n",
       "      <td>38</td>\n",
       "      <td>30</td>\n",
       "      <td>53</td>\n",
       "      <td>122</td>\n",
       "      <td>Biliary-AdenoCA</td>\n",
       "    </tr>\n",
       "    <tr>\n",
       "      <th>Biliary-AdenoCA::SP117332</th>\n",
       "      <td>52</td>\n",
       "      <td>36</td>\n",
       "      <td>8</td>\n",
       "      <td>31</td>\n",
       "      <td>30</td>\n",
       "      <td>22</td>\n",
       "      <td>10</td>\n",
       "      <td>38</td>\n",
       "      <td>21</td>\n",
       "      <td>25</td>\n",
       "      <td>...</td>\n",
       "      <td>18</td>\n",
       "      <td>2</td>\n",
       "      <td>4</td>\n",
       "      <td>7</td>\n",
       "      <td>7</td>\n",
       "      <td>15</td>\n",
       "      <td>8</td>\n",
       "      <td>16</td>\n",
       "      <td>38</td>\n",
       "      <td>Biliary-AdenoCA</td>\n",
       "    </tr>\n",
       "    <tr>\n",
       "      <th>...</th>\n",
       "      <td>...</td>\n",
       "      <td>...</td>\n",
       "      <td>...</td>\n",
       "      <td>...</td>\n",
       "      <td>...</td>\n",
       "      <td>...</td>\n",
       "      <td>...</td>\n",
       "      <td>...</td>\n",
       "      <td>...</td>\n",
       "      <td>...</td>\n",
       "      <td>...</td>\n",
       "      <td>...</td>\n",
       "      <td>...</td>\n",
       "      <td>...</td>\n",
       "      <td>...</td>\n",
       "      <td>...</td>\n",
       "      <td>...</td>\n",
       "      <td>...</td>\n",
       "      <td>...</td>\n",
       "      <td>...</td>\n",
       "      <td>...</td>\n",
       "    </tr>\n",
       "    <tr>\n",
       "      <th>Uterus-AdenoCA::SP91265</th>\n",
       "      <td>404</td>\n",
       "      <td>255</td>\n",
       "      <td>52</td>\n",
       "      <td>281</td>\n",
       "      <td>339</td>\n",
       "      <td>170</td>\n",
       "      <td>52</td>\n",
       "      <td>261</td>\n",
       "      <td>264</td>\n",
       "      <td>137</td>\n",
       "      <td>...</td>\n",
       "      <td>230</td>\n",
       "      <td>57</td>\n",
       "      <td>32</td>\n",
       "      <td>97</td>\n",
       "      <td>118</td>\n",
       "      <td>83</td>\n",
       "      <td>49</td>\n",
       "      <td>108</td>\n",
       "      <td>223</td>\n",
       "      <td>Uterus-AdenoCA</td>\n",
       "    </tr>\n",
       "    <tr>\n",
       "      <th>Uterus-AdenoCA::SP89909</th>\n",
       "      <td>97</td>\n",
       "      <td>78</td>\n",
       "      <td>14</td>\n",
       "      <td>80</td>\n",
       "      <td>204</td>\n",
       "      <td>390</td>\n",
       "      <td>92</td>\n",
       "      <td>876</td>\n",
       "      <td>77</td>\n",
       "      <td>62</td>\n",
       "      <td>...</td>\n",
       "      <td>76</td>\n",
       "      <td>10</td>\n",
       "      <td>7</td>\n",
       "      <td>10</td>\n",
       "      <td>24</td>\n",
       "      <td>19</td>\n",
       "      <td>17</td>\n",
       "      <td>34</td>\n",
       "      <td>106</td>\n",
       "      <td>Uterus-AdenoCA</td>\n",
       "    </tr>\n",
       "    <tr>\n",
       "      <th>Uterus-AdenoCA::SP90629</th>\n",
       "      <td>250</td>\n",
       "      <td>188</td>\n",
       "      <td>49</td>\n",
       "      <td>202</td>\n",
       "      <td>194</td>\n",
       "      <td>124</td>\n",
       "      <td>28</td>\n",
       "      <td>150</td>\n",
       "      <td>142</td>\n",
       "      <td>95</td>\n",
       "      <td>...</td>\n",
       "      <td>197</td>\n",
       "      <td>42</td>\n",
       "      <td>35</td>\n",
       "      <td>72</td>\n",
       "      <td>113</td>\n",
       "      <td>108</td>\n",
       "      <td>92</td>\n",
       "      <td>103</td>\n",
       "      <td>270</td>\n",
       "      <td>Uterus-AdenoCA</td>\n",
       "    </tr>\n",
       "    <tr>\n",
       "      <th>Uterus-AdenoCA::SP95550</th>\n",
       "      <td>170</td>\n",
       "      <td>137</td>\n",
       "      <td>32</td>\n",
       "      <td>116</td>\n",
       "      <td>127</td>\n",
       "      <td>100</td>\n",
       "      <td>17</td>\n",
       "      <td>120</td>\n",
       "      <td>108</td>\n",
       "      <td>72</td>\n",
       "      <td>...</td>\n",
       "      <td>62</td>\n",
       "      <td>25</td>\n",
       "      <td>13</td>\n",
       "      <td>61</td>\n",
       "      <td>32</td>\n",
       "      <td>29</td>\n",
       "      <td>33</td>\n",
       "      <td>42</td>\n",
       "      <td>89</td>\n",
       "      <td>Uterus-AdenoCA</td>\n",
       "    </tr>\n",
       "    <tr>\n",
       "      <th>tri_mut</th>\n",
       "      <td>C&gt;A_ACA</td>\n",
       "      <td>C&gt;A_ACC</td>\n",
       "      <td>C&gt;A_ACG</td>\n",
       "      <td>C&gt;A_ACT</td>\n",
       "      <td>C&gt;A_CCA</td>\n",
       "      <td>C&gt;A_CCC</td>\n",
       "      <td>C&gt;A_CCG</td>\n",
       "      <td>C&gt;A_CCT</td>\n",
       "      <td>C&gt;A_GCA</td>\n",
       "      <td>C&gt;A_GCC</td>\n",
       "      <td>...</td>\n",
       "      <td>T&gt;G_CTT</td>\n",
       "      <td>T&gt;G_GTA</td>\n",
       "      <td>T&gt;G_GTC</td>\n",
       "      <td>T&gt;G_GTG</td>\n",
       "      <td>T&gt;G_GTT</td>\n",
       "      <td>T&gt;G_TTA</td>\n",
       "      <td>T&gt;G_TTC</td>\n",
       "      <td>T&gt;G_TTG</td>\n",
       "      <td>T&gt;G_TTT</td>\n",
       "      <td>tri_mut</td>\n",
       "    </tr>\n",
       "  </tbody>\n",
       "</table>\n",
       "<p>2781 rows × 97 columns</p>\n",
       "</div>"
      ],
      "text/plain": [
       "tri_mut                    C>A_ACA  C>A_ACC  C>A_ACG  C>A_ACT  C>A_CCA  \\\n",
       "Biliary-AdenoCA::SP117655      269      148       25      154      215   \n",
       "Biliary-AdenoCA::SP117556      114       56       13       70       63   \n",
       "Biliary-AdenoCA::SP117627      105       71       13       73       71   \n",
       "Biliary-AdenoCA::SP117775      217      123       29      126      129   \n",
       "Biliary-AdenoCA::SP117332       52       36        8       31       30   \n",
       "...                            ...      ...      ...      ...      ...   \n",
       "Uterus-AdenoCA::SP91265        404      255       52      281      339   \n",
       "Uterus-AdenoCA::SP89909         97       78       14       80      204   \n",
       "Uterus-AdenoCA::SP90629        250      188       49      202      194   \n",
       "Uterus-AdenoCA::SP95550        170      137       32      116      127   \n",
       "tri_mut                    C>A_ACA  C>A_ACC  C>A_ACG  C>A_ACT  C>A_CCA   \n",
       "\n",
       "tri_mut                    C>A_CCC  C>A_CCG  C>A_CCT  C>A_GCA  C>A_GCC  ...  \\\n",
       "Biliary-AdenoCA::SP117655      148       27      180      165       76  ...   \n",
       "Biliary-AdenoCA::SP117556       49        7       69       81       37  ...   \n",
       "Biliary-AdenoCA::SP117627       55        8       61       61       50  ...   \n",
       "Biliary-AdenoCA::SP117775       82       26      143      162       84  ...   \n",
       "Biliary-AdenoCA::SP117332       22       10       38       21       25  ...   \n",
       "...                            ...      ...      ...      ...      ...  ...   \n",
       "Uterus-AdenoCA::SP91265        170       52      261      264      137  ...   \n",
       "Uterus-AdenoCA::SP89909        390       92      876       77       62  ...   \n",
       "Uterus-AdenoCA::SP90629        124       28      150      142       95  ...   \n",
       "Uterus-AdenoCA::SP95550        100       17      120      108       72  ...   \n",
       "tri_mut                    C>A_CCC  C>A_CCG  C>A_CCT  C>A_GCA  C>A_GCC  ...   \n",
       "\n",
       "tri_mut                    T>G_CTT  T>G_GTA  T>G_GTC  T>G_GTG  T>G_GTT  \\\n",
       "Biliary-AdenoCA::SP117655      268       19       17       43       89   \n",
       "Biliary-AdenoCA::SP117556       53        8        5       20       15   \n",
       "Biliary-AdenoCA::SP117627       44        7        6       14       14   \n",
       "Biliary-AdenoCA::SP117775      132       21        7       28       34   \n",
       "Biliary-AdenoCA::SP117332       18        2        4        7        7   \n",
       "...                            ...      ...      ...      ...      ...   \n",
       "Uterus-AdenoCA::SP91265        230       57       32       97      118   \n",
       "Uterus-AdenoCA::SP89909         76       10        7       10       24   \n",
       "Uterus-AdenoCA::SP90629        197       42       35       72      113   \n",
       "Uterus-AdenoCA::SP95550         62       25       13       61       32   \n",
       "tri_mut                    T>G_CTT  T>G_GTA  T>G_GTC  T>G_GTG  T>G_GTT   \n",
       "\n",
       "tri_mut                    T>G_TTA  T>G_TTC  T>G_TTG  T>G_TTT            label  \n",
       "Biliary-AdenoCA::SP117655       83       48       63      197  Biliary-AdenoCA  \n",
       "Biliary-AdenoCA::SP117556       26       10       31       64  Biliary-AdenoCA  \n",
       "Biliary-AdenoCA::SP117627       16        8       15       52  Biliary-AdenoCA  \n",
       "Biliary-AdenoCA::SP117775       38       30       53      122  Biliary-AdenoCA  \n",
       "Biliary-AdenoCA::SP117332       15        8       16       38  Biliary-AdenoCA  \n",
       "...                            ...      ...      ...      ...              ...  \n",
       "Uterus-AdenoCA::SP91265         83       49      108      223   Uterus-AdenoCA  \n",
       "Uterus-AdenoCA::SP89909         19       17       34      106   Uterus-AdenoCA  \n",
       "Uterus-AdenoCA::SP90629        108       92      103      270   Uterus-AdenoCA  \n",
       "Uterus-AdenoCA::SP95550         29       33       42       89   Uterus-AdenoCA  \n",
       "tri_mut                    T>G_TTA  T>G_TTC  T>G_TTG  T>G_TTT          tri_mut  \n",
       "\n",
       "[2781 rows x 97 columns]"
      ]
     },
     "execution_count": 11,
     "metadata": {},
     "output_type": "execute_result"
    }
   ],
   "source": [
    "PCAWG_wgs_mut_T"
   ]
  },
  {
   "cell_type": "code",
   "execution_count": 12,
   "metadata": {
    "ExecuteTime": {
     "end_time": "2022-02-22T08:41:08.910056Z",
     "start_time": "2022-02-22T08:41:08.882568Z"
    }
   },
   "outputs": [
    {
     "data": {
      "text/html": [
       "<div>\n",
       "<style scoped>\n",
       "    .dataframe tbody tr th:only-of-type {\n",
       "        vertical-align: middle;\n",
       "    }\n",
       "\n",
       "    .dataframe tbody tr th {\n",
       "        vertical-align: top;\n",
       "    }\n",
       "\n",
       "    .dataframe thead th {\n",
       "        text-align: right;\n",
       "    }\n",
       "</style>\n",
       "<table border=\"1\" class=\"dataframe\">\n",
       "  <thead>\n",
       "    <tr style=\"text-align: right;\">\n",
       "      <th>tri_mut</th>\n",
       "      <th>C&gt;A_ACA</th>\n",
       "      <th>C&gt;A_ACC</th>\n",
       "      <th>C&gt;A_ACG</th>\n",
       "      <th>C&gt;A_ACT</th>\n",
       "      <th>C&gt;A_CCA</th>\n",
       "      <th>C&gt;A_CCC</th>\n",
       "      <th>C&gt;A_CCG</th>\n",
       "      <th>C&gt;A_CCT</th>\n",
       "      <th>C&gt;A_GCA</th>\n",
       "      <th>C&gt;A_GCC</th>\n",
       "      <th>...</th>\n",
       "      <th>T&gt;G_CTT</th>\n",
       "      <th>T&gt;G_GTA</th>\n",
       "      <th>T&gt;G_GTC</th>\n",
       "      <th>T&gt;G_GTG</th>\n",
       "      <th>T&gt;G_GTT</th>\n",
       "      <th>T&gt;G_TTA</th>\n",
       "      <th>T&gt;G_TTC</th>\n",
       "      <th>T&gt;G_TTG</th>\n",
       "      <th>T&gt;G_TTT</th>\n",
       "      <th>label</th>\n",
       "    </tr>\n",
       "  </thead>\n",
       "  <tbody>\n",
       "    <tr>\n",
       "      <th>Biliary-AdenoCA::SP117655</th>\n",
       "      <td>269</td>\n",
       "      <td>148</td>\n",
       "      <td>25</td>\n",
       "      <td>154</td>\n",
       "      <td>215</td>\n",
       "      <td>148</td>\n",
       "      <td>27</td>\n",
       "      <td>180</td>\n",
       "      <td>165</td>\n",
       "      <td>76</td>\n",
       "      <td>...</td>\n",
       "      <td>268</td>\n",
       "      <td>19</td>\n",
       "      <td>17</td>\n",
       "      <td>43</td>\n",
       "      <td>89</td>\n",
       "      <td>83</td>\n",
       "      <td>48</td>\n",
       "      <td>63</td>\n",
       "      <td>197</td>\n",
       "      <td>Biliary-AdenoCA</td>\n",
       "    </tr>\n",
       "    <tr>\n",
       "      <th>Biliary-AdenoCA::SP117556</th>\n",
       "      <td>114</td>\n",
       "      <td>56</td>\n",
       "      <td>13</td>\n",
       "      <td>70</td>\n",
       "      <td>63</td>\n",
       "      <td>49</td>\n",
       "      <td>7</td>\n",
       "      <td>69</td>\n",
       "      <td>81</td>\n",
       "      <td>37</td>\n",
       "      <td>...</td>\n",
       "      <td>53</td>\n",
       "      <td>8</td>\n",
       "      <td>5</td>\n",
       "      <td>20</td>\n",
       "      <td>15</td>\n",
       "      <td>26</td>\n",
       "      <td>10</td>\n",
       "      <td>31</td>\n",
       "      <td>64</td>\n",
       "      <td>Biliary-AdenoCA</td>\n",
       "    </tr>\n",
       "    <tr>\n",
       "      <th>Biliary-AdenoCA::SP117627</th>\n",
       "      <td>105</td>\n",
       "      <td>71</td>\n",
       "      <td>13</td>\n",
       "      <td>73</td>\n",
       "      <td>71</td>\n",
       "      <td>55</td>\n",
       "      <td>8</td>\n",
       "      <td>61</td>\n",
       "      <td>61</td>\n",
       "      <td>50</td>\n",
       "      <td>...</td>\n",
       "      <td>44</td>\n",
       "      <td>7</td>\n",
       "      <td>6</td>\n",
       "      <td>14</td>\n",
       "      <td>14</td>\n",
       "      <td>16</td>\n",
       "      <td>8</td>\n",
       "      <td>15</td>\n",
       "      <td>52</td>\n",
       "      <td>Biliary-AdenoCA</td>\n",
       "    </tr>\n",
       "    <tr>\n",
       "      <th>Biliary-AdenoCA::SP117775</th>\n",
       "      <td>217</td>\n",
       "      <td>123</td>\n",
       "      <td>29</td>\n",
       "      <td>126</td>\n",
       "      <td>129</td>\n",
       "      <td>82</td>\n",
       "      <td>26</td>\n",
       "      <td>143</td>\n",
       "      <td>162</td>\n",
       "      <td>84</td>\n",
       "      <td>...</td>\n",
       "      <td>132</td>\n",
       "      <td>21</td>\n",
       "      <td>7</td>\n",
       "      <td>28</td>\n",
       "      <td>34</td>\n",
       "      <td>38</td>\n",
       "      <td>30</td>\n",
       "      <td>53</td>\n",
       "      <td>122</td>\n",
       "      <td>Biliary-AdenoCA</td>\n",
       "    </tr>\n",
       "    <tr>\n",
       "      <th>Biliary-AdenoCA::SP117332</th>\n",
       "      <td>52</td>\n",
       "      <td>36</td>\n",
       "      <td>8</td>\n",
       "      <td>31</td>\n",
       "      <td>30</td>\n",
       "      <td>22</td>\n",
       "      <td>10</td>\n",
       "      <td>38</td>\n",
       "      <td>21</td>\n",
       "      <td>25</td>\n",
       "      <td>...</td>\n",
       "      <td>18</td>\n",
       "      <td>2</td>\n",
       "      <td>4</td>\n",
       "      <td>7</td>\n",
       "      <td>7</td>\n",
       "      <td>15</td>\n",
       "      <td>8</td>\n",
       "      <td>16</td>\n",
       "      <td>38</td>\n",
       "      <td>Biliary-AdenoCA</td>\n",
       "    </tr>\n",
       "    <tr>\n",
       "      <th>...</th>\n",
       "      <td>...</td>\n",
       "      <td>...</td>\n",
       "      <td>...</td>\n",
       "      <td>...</td>\n",
       "      <td>...</td>\n",
       "      <td>...</td>\n",
       "      <td>...</td>\n",
       "      <td>...</td>\n",
       "      <td>...</td>\n",
       "      <td>...</td>\n",
       "      <td>...</td>\n",
       "      <td>...</td>\n",
       "      <td>...</td>\n",
       "      <td>...</td>\n",
       "      <td>...</td>\n",
       "      <td>...</td>\n",
       "      <td>...</td>\n",
       "      <td>...</td>\n",
       "      <td>...</td>\n",
       "      <td>...</td>\n",
       "      <td>...</td>\n",
       "    </tr>\n",
       "    <tr>\n",
       "      <th>Uterus-AdenoCA::SP91265</th>\n",
       "      <td>404</td>\n",
       "      <td>255</td>\n",
       "      <td>52</td>\n",
       "      <td>281</td>\n",
       "      <td>339</td>\n",
       "      <td>170</td>\n",
       "      <td>52</td>\n",
       "      <td>261</td>\n",
       "      <td>264</td>\n",
       "      <td>137</td>\n",
       "      <td>...</td>\n",
       "      <td>230</td>\n",
       "      <td>57</td>\n",
       "      <td>32</td>\n",
       "      <td>97</td>\n",
       "      <td>118</td>\n",
       "      <td>83</td>\n",
       "      <td>49</td>\n",
       "      <td>108</td>\n",
       "      <td>223</td>\n",
       "      <td>Uterus-AdenoCA</td>\n",
       "    </tr>\n",
       "    <tr>\n",
       "      <th>Uterus-AdenoCA::SP89909</th>\n",
       "      <td>97</td>\n",
       "      <td>78</td>\n",
       "      <td>14</td>\n",
       "      <td>80</td>\n",
       "      <td>204</td>\n",
       "      <td>390</td>\n",
       "      <td>92</td>\n",
       "      <td>876</td>\n",
       "      <td>77</td>\n",
       "      <td>62</td>\n",
       "      <td>...</td>\n",
       "      <td>76</td>\n",
       "      <td>10</td>\n",
       "      <td>7</td>\n",
       "      <td>10</td>\n",
       "      <td>24</td>\n",
       "      <td>19</td>\n",
       "      <td>17</td>\n",
       "      <td>34</td>\n",
       "      <td>106</td>\n",
       "      <td>Uterus-AdenoCA</td>\n",
       "    </tr>\n",
       "    <tr>\n",
       "      <th>Uterus-AdenoCA::SP90629</th>\n",
       "      <td>250</td>\n",
       "      <td>188</td>\n",
       "      <td>49</td>\n",
       "      <td>202</td>\n",
       "      <td>194</td>\n",
       "      <td>124</td>\n",
       "      <td>28</td>\n",
       "      <td>150</td>\n",
       "      <td>142</td>\n",
       "      <td>95</td>\n",
       "      <td>...</td>\n",
       "      <td>197</td>\n",
       "      <td>42</td>\n",
       "      <td>35</td>\n",
       "      <td>72</td>\n",
       "      <td>113</td>\n",
       "      <td>108</td>\n",
       "      <td>92</td>\n",
       "      <td>103</td>\n",
       "      <td>270</td>\n",
       "      <td>Uterus-AdenoCA</td>\n",
       "    </tr>\n",
       "    <tr>\n",
       "      <th>Uterus-AdenoCA::SP95550</th>\n",
       "      <td>170</td>\n",
       "      <td>137</td>\n",
       "      <td>32</td>\n",
       "      <td>116</td>\n",
       "      <td>127</td>\n",
       "      <td>100</td>\n",
       "      <td>17</td>\n",
       "      <td>120</td>\n",
       "      <td>108</td>\n",
       "      <td>72</td>\n",
       "      <td>...</td>\n",
       "      <td>62</td>\n",
       "      <td>25</td>\n",
       "      <td>13</td>\n",
       "      <td>61</td>\n",
       "      <td>32</td>\n",
       "      <td>29</td>\n",
       "      <td>33</td>\n",
       "      <td>42</td>\n",
       "      <td>89</td>\n",
       "      <td>Uterus-AdenoCA</td>\n",
       "    </tr>\n",
       "    <tr>\n",
       "      <th>tri_mut</th>\n",
       "      <td>C&gt;A_ACA</td>\n",
       "      <td>C&gt;A_ACC</td>\n",
       "      <td>C&gt;A_ACG</td>\n",
       "      <td>C&gt;A_ACT</td>\n",
       "      <td>C&gt;A_CCA</td>\n",
       "      <td>C&gt;A_CCC</td>\n",
       "      <td>C&gt;A_CCG</td>\n",
       "      <td>C&gt;A_CCT</td>\n",
       "      <td>C&gt;A_GCA</td>\n",
       "      <td>C&gt;A_GCC</td>\n",
       "      <td>...</td>\n",
       "      <td>T&gt;G_CTT</td>\n",
       "      <td>T&gt;G_GTA</td>\n",
       "      <td>T&gt;G_GTC</td>\n",
       "      <td>T&gt;G_GTG</td>\n",
       "      <td>T&gt;G_GTT</td>\n",
       "      <td>T&gt;G_TTA</td>\n",
       "      <td>T&gt;G_TTC</td>\n",
       "      <td>T&gt;G_TTG</td>\n",
       "      <td>T&gt;G_TTT</td>\n",
       "      <td>tri_mut</td>\n",
       "    </tr>\n",
       "  </tbody>\n",
       "</table>\n",
       "<p>2781 rows × 97 columns</p>\n",
       "</div>"
      ],
      "text/plain": [
       "tri_mut                    C>A_ACA  C>A_ACC  C>A_ACG  C>A_ACT  C>A_CCA  \\\n",
       "Biliary-AdenoCA::SP117655      269      148       25      154      215   \n",
       "Biliary-AdenoCA::SP117556      114       56       13       70       63   \n",
       "Biliary-AdenoCA::SP117627      105       71       13       73       71   \n",
       "Biliary-AdenoCA::SP117775      217      123       29      126      129   \n",
       "Biliary-AdenoCA::SP117332       52       36        8       31       30   \n",
       "...                            ...      ...      ...      ...      ...   \n",
       "Uterus-AdenoCA::SP91265        404      255       52      281      339   \n",
       "Uterus-AdenoCA::SP89909         97       78       14       80      204   \n",
       "Uterus-AdenoCA::SP90629        250      188       49      202      194   \n",
       "Uterus-AdenoCA::SP95550        170      137       32      116      127   \n",
       "tri_mut                    C>A_ACA  C>A_ACC  C>A_ACG  C>A_ACT  C>A_CCA   \n",
       "\n",
       "tri_mut                    C>A_CCC  C>A_CCG  C>A_CCT  C>A_GCA  C>A_GCC  ...  \\\n",
       "Biliary-AdenoCA::SP117655      148       27      180      165       76  ...   \n",
       "Biliary-AdenoCA::SP117556       49        7       69       81       37  ...   \n",
       "Biliary-AdenoCA::SP117627       55        8       61       61       50  ...   \n",
       "Biliary-AdenoCA::SP117775       82       26      143      162       84  ...   \n",
       "Biliary-AdenoCA::SP117332       22       10       38       21       25  ...   \n",
       "...                            ...      ...      ...      ...      ...  ...   \n",
       "Uterus-AdenoCA::SP91265        170       52      261      264      137  ...   \n",
       "Uterus-AdenoCA::SP89909        390       92      876       77       62  ...   \n",
       "Uterus-AdenoCA::SP90629        124       28      150      142       95  ...   \n",
       "Uterus-AdenoCA::SP95550        100       17      120      108       72  ...   \n",
       "tri_mut                    C>A_CCC  C>A_CCG  C>A_CCT  C>A_GCA  C>A_GCC  ...   \n",
       "\n",
       "tri_mut                    T>G_CTT  T>G_GTA  T>G_GTC  T>G_GTG  T>G_GTT  \\\n",
       "Biliary-AdenoCA::SP117655      268       19       17       43       89   \n",
       "Biliary-AdenoCA::SP117556       53        8        5       20       15   \n",
       "Biliary-AdenoCA::SP117627       44        7        6       14       14   \n",
       "Biliary-AdenoCA::SP117775      132       21        7       28       34   \n",
       "Biliary-AdenoCA::SP117332       18        2        4        7        7   \n",
       "...                            ...      ...      ...      ...      ...   \n",
       "Uterus-AdenoCA::SP91265        230       57       32       97      118   \n",
       "Uterus-AdenoCA::SP89909         76       10        7       10       24   \n",
       "Uterus-AdenoCA::SP90629        197       42       35       72      113   \n",
       "Uterus-AdenoCA::SP95550         62       25       13       61       32   \n",
       "tri_mut                    T>G_CTT  T>G_GTA  T>G_GTC  T>G_GTG  T>G_GTT   \n",
       "\n",
       "tri_mut                    T>G_TTA  T>G_TTC  T>G_TTG  T>G_TTT            label  \n",
       "Biliary-AdenoCA::SP117655       83       48       63      197  Biliary-AdenoCA  \n",
       "Biliary-AdenoCA::SP117556       26       10       31       64  Biliary-AdenoCA  \n",
       "Biliary-AdenoCA::SP117627       16        8       15       52  Biliary-AdenoCA  \n",
       "Biliary-AdenoCA::SP117775       38       30       53      122  Biliary-AdenoCA  \n",
       "Biliary-AdenoCA::SP117332       15        8       16       38  Biliary-AdenoCA  \n",
       "...                            ...      ...      ...      ...              ...  \n",
       "Uterus-AdenoCA::SP91265         83       49      108      223   Uterus-AdenoCA  \n",
       "Uterus-AdenoCA::SP89909         19       17       34      106   Uterus-AdenoCA  \n",
       "Uterus-AdenoCA::SP90629        108       92      103      270   Uterus-AdenoCA  \n",
       "Uterus-AdenoCA::SP95550         29       33       42       89   Uterus-AdenoCA  \n",
       "tri_mut                    T>G_TTA  T>G_TTC  T>G_TTG  T>G_TTT          tri_mut  \n",
       "\n",
       "[2781 rows x 97 columns]"
      ]
     },
     "execution_count": 12,
     "metadata": {},
     "output_type": "execute_result"
    }
   ],
   "source": [
    "PCAWG_wgs_mut_T"
   ]
  },
  {
   "cell_type": "code",
   "execution_count": 13,
   "metadata": {
    "ExecuteTime": {
     "end_time": "2022-02-22T08:41:08.958282Z",
     "start_time": "2022-02-22T08:41:08.911684Z"
    },
    "scrolled": true
   },
   "outputs": [
    {
     "data": {
      "text/html": [
       "<div>\n",
       "<style scoped>\n",
       "    .dataframe tbody tr th:only-of-type {\n",
       "        vertical-align: middle;\n",
       "    }\n",
       "\n",
       "    .dataframe tbody tr th {\n",
       "        vertical-align: top;\n",
       "    }\n",
       "\n",
       "    .dataframe thead th {\n",
       "        text-align: right;\n",
       "    }\n",
       "</style>\n",
       "<table border=\"1\" class=\"dataframe\">\n",
       "  <thead>\n",
       "    <tr style=\"text-align: right;\">\n",
       "      <th>tri_mut</th>\n",
       "      <th>C&gt;A_ACA</th>\n",
       "      <th>C&gt;A_ACC</th>\n",
       "      <th>C&gt;A_ACG</th>\n",
       "      <th>C&gt;A_ACT</th>\n",
       "      <th>C&gt;A_CCA</th>\n",
       "      <th>C&gt;A_CCC</th>\n",
       "      <th>C&gt;A_CCG</th>\n",
       "      <th>C&gt;A_CCT</th>\n",
       "      <th>C&gt;A_GCA</th>\n",
       "      <th>C&gt;A_GCC</th>\n",
       "      <th>...</th>\n",
       "      <th>T&gt;G_CTG</th>\n",
       "      <th>T&gt;G_CTT</th>\n",
       "      <th>T&gt;G_GTA</th>\n",
       "      <th>T&gt;G_GTC</th>\n",
       "      <th>T&gt;G_GTG</th>\n",
       "      <th>T&gt;G_GTT</th>\n",
       "      <th>T&gt;G_TTA</th>\n",
       "      <th>T&gt;G_TTC</th>\n",
       "      <th>T&gt;G_TTG</th>\n",
       "      <th>T&gt;G_TTT</th>\n",
       "    </tr>\n",
       "  </thead>\n",
       "  <tbody>\n",
       "    <tr>\n",
       "      <th>Biliary-AdenoCA::SP117655</th>\n",
       "      <td>269</td>\n",
       "      <td>148</td>\n",
       "      <td>25</td>\n",
       "      <td>154</td>\n",
       "      <td>215</td>\n",
       "      <td>148</td>\n",
       "      <td>27</td>\n",
       "      <td>180</td>\n",
       "      <td>165</td>\n",
       "      <td>76</td>\n",
       "      <td>...</td>\n",
       "      <td>49</td>\n",
       "      <td>268</td>\n",
       "      <td>19</td>\n",
       "      <td>17</td>\n",
       "      <td>43</td>\n",
       "      <td>89</td>\n",
       "      <td>83</td>\n",
       "      <td>48</td>\n",
       "      <td>63</td>\n",
       "      <td>197</td>\n",
       "    </tr>\n",
       "    <tr>\n",
       "      <th>Biliary-AdenoCA::SP117556</th>\n",
       "      <td>114</td>\n",
       "      <td>56</td>\n",
       "      <td>13</td>\n",
       "      <td>70</td>\n",
       "      <td>63</td>\n",
       "      <td>49</td>\n",
       "      <td>7</td>\n",
       "      <td>69</td>\n",
       "      <td>81</td>\n",
       "      <td>37</td>\n",
       "      <td>...</td>\n",
       "      <td>23</td>\n",
       "      <td>53</td>\n",
       "      <td>8</td>\n",
       "      <td>5</td>\n",
       "      <td>20</td>\n",
       "      <td>15</td>\n",
       "      <td>26</td>\n",
       "      <td>10</td>\n",
       "      <td>31</td>\n",
       "      <td>64</td>\n",
       "    </tr>\n",
       "    <tr>\n",
       "      <th>Biliary-AdenoCA::SP117627</th>\n",
       "      <td>105</td>\n",
       "      <td>71</td>\n",
       "      <td>13</td>\n",
       "      <td>73</td>\n",
       "      <td>71</td>\n",
       "      <td>55</td>\n",
       "      <td>8</td>\n",
       "      <td>61</td>\n",
       "      <td>61</td>\n",
       "      <td>50</td>\n",
       "      <td>...</td>\n",
       "      <td>8</td>\n",
       "      <td>44</td>\n",
       "      <td>7</td>\n",
       "      <td>6</td>\n",
       "      <td>14</td>\n",
       "      <td>14</td>\n",
       "      <td>16</td>\n",
       "      <td>8</td>\n",
       "      <td>15</td>\n",
       "      <td>52</td>\n",
       "    </tr>\n",
       "    <tr>\n",
       "      <th>Biliary-AdenoCA::SP117775</th>\n",
       "      <td>217</td>\n",
       "      <td>123</td>\n",
       "      <td>29</td>\n",
       "      <td>126</td>\n",
       "      <td>129</td>\n",
       "      <td>82</td>\n",
       "      <td>26</td>\n",
       "      <td>143</td>\n",
       "      <td>162</td>\n",
       "      <td>84</td>\n",
       "      <td>...</td>\n",
       "      <td>43</td>\n",
       "      <td>132</td>\n",
       "      <td>21</td>\n",
       "      <td>7</td>\n",
       "      <td>28</td>\n",
       "      <td>34</td>\n",
       "      <td>38</td>\n",
       "      <td>30</td>\n",
       "      <td>53</td>\n",
       "      <td>122</td>\n",
       "    </tr>\n",
       "    <tr>\n",
       "      <th>Biliary-AdenoCA::SP117332</th>\n",
       "      <td>52</td>\n",
       "      <td>36</td>\n",
       "      <td>8</td>\n",
       "      <td>31</td>\n",
       "      <td>30</td>\n",
       "      <td>22</td>\n",
       "      <td>10</td>\n",
       "      <td>38</td>\n",
       "      <td>21</td>\n",
       "      <td>25</td>\n",
       "      <td>...</td>\n",
       "      <td>8</td>\n",
       "      <td>18</td>\n",
       "      <td>2</td>\n",
       "      <td>4</td>\n",
       "      <td>7</td>\n",
       "      <td>7</td>\n",
       "      <td>15</td>\n",
       "      <td>8</td>\n",
       "      <td>16</td>\n",
       "      <td>38</td>\n",
       "    </tr>\n",
       "    <tr>\n",
       "      <th>...</th>\n",
       "      <td>...</td>\n",
       "      <td>...</td>\n",
       "      <td>...</td>\n",
       "      <td>...</td>\n",
       "      <td>...</td>\n",
       "      <td>...</td>\n",
       "      <td>...</td>\n",
       "      <td>...</td>\n",
       "      <td>...</td>\n",
       "      <td>...</td>\n",
       "      <td>...</td>\n",
       "      <td>...</td>\n",
       "      <td>...</td>\n",
       "      <td>...</td>\n",
       "      <td>...</td>\n",
       "      <td>...</td>\n",
       "      <td>...</td>\n",
       "      <td>...</td>\n",
       "      <td>...</td>\n",
       "      <td>...</td>\n",
       "      <td>...</td>\n",
       "    </tr>\n",
       "    <tr>\n",
       "      <th>Uterus-AdenoCA::SP92931</th>\n",
       "      <td>139</td>\n",
       "      <td>75</td>\n",
       "      <td>13</td>\n",
       "      <td>68</td>\n",
       "      <td>69</td>\n",
       "      <td>52</td>\n",
       "      <td>16</td>\n",
       "      <td>55</td>\n",
       "      <td>73</td>\n",
       "      <td>32</td>\n",
       "      <td>...</td>\n",
       "      <td>23</td>\n",
       "      <td>82</td>\n",
       "      <td>8</td>\n",
       "      <td>9</td>\n",
       "      <td>14</td>\n",
       "      <td>23</td>\n",
       "      <td>19</td>\n",
       "      <td>13</td>\n",
       "      <td>25</td>\n",
       "      <td>66</td>\n",
       "    </tr>\n",
       "    <tr>\n",
       "      <th>Uterus-AdenoCA::SP91265</th>\n",
       "      <td>404</td>\n",
       "      <td>255</td>\n",
       "      <td>52</td>\n",
       "      <td>281</td>\n",
       "      <td>339</td>\n",
       "      <td>170</td>\n",
       "      <td>52</td>\n",
       "      <td>261</td>\n",
       "      <td>264</td>\n",
       "      <td>137</td>\n",
       "      <td>...</td>\n",
       "      <td>88</td>\n",
       "      <td>230</td>\n",
       "      <td>57</td>\n",
       "      <td>32</td>\n",
       "      <td>97</td>\n",
       "      <td>118</td>\n",
       "      <td>83</td>\n",
       "      <td>49</td>\n",
       "      <td>108</td>\n",
       "      <td>223</td>\n",
       "    </tr>\n",
       "    <tr>\n",
       "      <th>Uterus-AdenoCA::SP89909</th>\n",
       "      <td>97</td>\n",
       "      <td>78</td>\n",
       "      <td>14</td>\n",
       "      <td>80</td>\n",
       "      <td>204</td>\n",
       "      <td>390</td>\n",
       "      <td>92</td>\n",
       "      <td>876</td>\n",
       "      <td>77</td>\n",
       "      <td>62</td>\n",
       "      <td>...</td>\n",
       "      <td>75</td>\n",
       "      <td>76</td>\n",
       "      <td>10</td>\n",
       "      <td>7</td>\n",
       "      <td>10</td>\n",
       "      <td>24</td>\n",
       "      <td>19</td>\n",
       "      <td>17</td>\n",
       "      <td>34</td>\n",
       "      <td>106</td>\n",
       "    </tr>\n",
       "    <tr>\n",
       "      <th>Uterus-AdenoCA::SP90629</th>\n",
       "      <td>250</td>\n",
       "      <td>188</td>\n",
       "      <td>49</td>\n",
       "      <td>202</td>\n",
       "      <td>194</td>\n",
       "      <td>124</td>\n",
       "      <td>28</td>\n",
       "      <td>150</td>\n",
       "      <td>142</td>\n",
       "      <td>95</td>\n",
       "      <td>...</td>\n",
       "      <td>87</td>\n",
       "      <td>197</td>\n",
       "      <td>42</td>\n",
       "      <td>35</td>\n",
       "      <td>72</td>\n",
       "      <td>113</td>\n",
       "      <td>108</td>\n",
       "      <td>92</td>\n",
       "      <td>103</td>\n",
       "      <td>270</td>\n",
       "    </tr>\n",
       "    <tr>\n",
       "      <th>Uterus-AdenoCA::SP95550</th>\n",
       "      <td>170</td>\n",
       "      <td>137</td>\n",
       "      <td>32</td>\n",
       "      <td>116</td>\n",
       "      <td>127</td>\n",
       "      <td>100</td>\n",
       "      <td>17</td>\n",
       "      <td>120</td>\n",
       "      <td>108</td>\n",
       "      <td>72</td>\n",
       "      <td>...</td>\n",
       "      <td>49</td>\n",
       "      <td>62</td>\n",
       "      <td>25</td>\n",
       "      <td>13</td>\n",
       "      <td>61</td>\n",
       "      <td>32</td>\n",
       "      <td>29</td>\n",
       "      <td>33</td>\n",
       "      <td>42</td>\n",
       "      <td>89</td>\n",
       "    </tr>\n",
       "  </tbody>\n",
       "</table>\n",
       "<p>2780 rows × 96 columns</p>\n",
       "</div>"
      ],
      "text/plain": [
       "tri_mut                   C>A_ACA C>A_ACC C>A_ACG C>A_ACT C>A_CCA C>A_CCC  \\\n",
       "Biliary-AdenoCA::SP117655     269     148      25     154     215     148   \n",
       "Biliary-AdenoCA::SP117556     114      56      13      70      63      49   \n",
       "Biliary-AdenoCA::SP117627     105      71      13      73      71      55   \n",
       "Biliary-AdenoCA::SP117775     217     123      29     126     129      82   \n",
       "Biliary-AdenoCA::SP117332      52      36       8      31      30      22   \n",
       "...                           ...     ...     ...     ...     ...     ...   \n",
       "Uterus-AdenoCA::SP92931       139      75      13      68      69      52   \n",
       "Uterus-AdenoCA::SP91265       404     255      52     281     339     170   \n",
       "Uterus-AdenoCA::SP89909        97      78      14      80     204     390   \n",
       "Uterus-AdenoCA::SP90629       250     188      49     202     194     124   \n",
       "Uterus-AdenoCA::SP95550       170     137      32     116     127     100   \n",
       "\n",
       "tri_mut                   C>A_CCG C>A_CCT C>A_GCA C>A_GCC  ... T>G_CTG  \\\n",
       "Biliary-AdenoCA::SP117655      27     180     165      76  ...      49   \n",
       "Biliary-AdenoCA::SP117556       7      69      81      37  ...      23   \n",
       "Biliary-AdenoCA::SP117627       8      61      61      50  ...       8   \n",
       "Biliary-AdenoCA::SP117775      26     143     162      84  ...      43   \n",
       "Biliary-AdenoCA::SP117332      10      38      21      25  ...       8   \n",
       "...                           ...     ...     ...     ...  ...     ...   \n",
       "Uterus-AdenoCA::SP92931        16      55      73      32  ...      23   \n",
       "Uterus-AdenoCA::SP91265        52     261     264     137  ...      88   \n",
       "Uterus-AdenoCA::SP89909        92     876      77      62  ...      75   \n",
       "Uterus-AdenoCA::SP90629        28     150     142      95  ...      87   \n",
       "Uterus-AdenoCA::SP95550        17     120     108      72  ...      49   \n",
       "\n",
       "tri_mut                   T>G_CTT T>G_GTA T>G_GTC T>G_GTG T>G_GTT T>G_TTA  \\\n",
       "Biliary-AdenoCA::SP117655     268      19      17      43      89      83   \n",
       "Biliary-AdenoCA::SP117556      53       8       5      20      15      26   \n",
       "Biliary-AdenoCA::SP117627      44       7       6      14      14      16   \n",
       "Biliary-AdenoCA::SP117775     132      21       7      28      34      38   \n",
       "Biliary-AdenoCA::SP117332      18       2       4       7       7      15   \n",
       "...                           ...     ...     ...     ...     ...     ...   \n",
       "Uterus-AdenoCA::SP92931        82       8       9      14      23      19   \n",
       "Uterus-AdenoCA::SP91265       230      57      32      97     118      83   \n",
       "Uterus-AdenoCA::SP89909        76      10       7      10      24      19   \n",
       "Uterus-AdenoCA::SP90629       197      42      35      72     113     108   \n",
       "Uterus-AdenoCA::SP95550        62      25      13      61      32      29   \n",
       "\n",
       "tri_mut                   T>G_TTC T>G_TTG T>G_TTT  \n",
       "Biliary-AdenoCA::SP117655      48      63     197  \n",
       "Biliary-AdenoCA::SP117556      10      31      64  \n",
       "Biliary-AdenoCA::SP117627       8      15      52  \n",
       "Biliary-AdenoCA::SP117775      30      53     122  \n",
       "Biliary-AdenoCA::SP117332       8      16      38  \n",
       "...                           ...     ...     ...  \n",
       "Uterus-AdenoCA::SP92931        13      25      66  \n",
       "Uterus-AdenoCA::SP91265        49     108     223  \n",
       "Uterus-AdenoCA::SP89909        17      34     106  \n",
       "Uterus-AdenoCA::SP90629        92     103     270  \n",
       "Uterus-AdenoCA::SP95550        33      42      89  \n",
       "\n",
       "[2780 rows x 96 columns]"
      ]
     },
     "execution_count": 13,
     "metadata": {},
     "output_type": "execute_result"
    }
   ],
   "source": [
    "X = PCAWG_wgs_mut_T.drop('label', axis=1).drop('tri_mut',axis=0).copy()\n",
    "X"
   ]
  },
  {
   "cell_type": "code",
   "execution_count": 14,
   "metadata": {
    "ExecuteTime": {
     "end_time": "2022-02-22T08:41:08.969245Z",
     "start_time": "2022-02-22T08:41:08.960607Z"
    }
   },
   "outputs": [],
   "source": [
    "y = PCAWG_wgs_mut_T['label'][0:-1].copy()"
   ]
  },
  {
   "cell_type": "markdown",
   "metadata": {},
   "source": [
    "mean = 0, deviation = 1:"
   ]
  },
  {
   "cell_type": "code",
   "execution_count": 15,
   "metadata": {
    "ExecuteTime": {
     "end_time": "2022-02-22T08:41:09.007750Z",
     "start_time": "2022-02-22T08:41:08.971227Z"
    }
   },
   "outputs": [],
   "source": [
    "scaled_X = scale(X)\n",
    "X_train_scaled, X_test_scaled, y_train, y_test = train_test_split(scaled_X,y, random_state=42)"
   ]
  },
  {
   "cell_type": "code",
   "execution_count": 16,
   "metadata": {
    "ExecuteTime": {
     "end_time": "2022-02-22T08:41:09.370504Z",
     "start_time": "2022-02-22T08:41:09.009194Z"
    }
   },
   "outputs": [
    {
     "data": {
      "text/plain": [
       "0.34388489208633094"
      ]
     },
     "execution_count": 16,
     "metadata": {},
     "output_type": "execute_result"
    }
   ],
   "source": [
    "#unoptimized SVC + score (0,34) \n",
    "clf_svm = SVC(random_state=42)\n",
    "clf_svm.fit(X_train_scaled, y_train)\n",
    "clf_svm.score(X_test_scaled, y_test)"
   ]
  },
  {
   "cell_type": "code",
   "execution_count": 17,
   "metadata": {
    "ExecuteTime": {
     "end_time": "2022-02-22T08:41:14.107565Z",
     "start_time": "2022-02-22T08:41:09.371850Z"
    },
    "scrolled": false
   },
   "outputs": [],
   "source": [
    "#fig, ax = plt.subplots(figsize=(15, 15))\n",
    "#plot_confusion_matrix(clf_svm, X_test_scaled, y_test, values_format = 'd', xticks_rotation = 'vertical', ax=ax)\n",
    "#plt.show()\n",
    "#Note: strange results, confusion matrix predicts most samples as prost-AdenoCA"
   ]
  },
  {
   "cell_type": "markdown",
   "metadata": {},
   "source": [
    "Cross validation"
   ]
  },
  {
   "cell_type": "code",
   "execution_count": 18,
   "metadata": {
    "ExecuteTime": {
     "end_time": "2022-02-22T08:43:41.636758Z",
     "start_time": "2022-02-22T08:41:14.108832Z"
    }
   },
   "outputs": [
    {
     "ename": "NameError",
     "evalue": "name 'CX_train_scaled' is not defined",
     "output_type": "error",
     "traceback": [
      "\u001b[0;31m---------------------------------------------------------------------------\u001b[0m",
      "\u001b[0;31mNameError\u001b[0m                                 Traceback (most recent call last)",
      "\u001b[0;32m<ipython-input-18-2cc687f45ad3>\u001b[0m in \u001b[0;36m<module>\u001b[0;34m\u001b[0m\n\u001b[1;32m     10\u001b[0m     \u001b[0mverbose\u001b[0m \u001b[0;34m=\u001b[0m \u001b[0;36m0\u001b[0m\u001b[0;34m\u001b[0m\u001b[0;34m\u001b[0m\u001b[0m\n\u001b[1;32m     11\u001b[0m )\n\u001b[0;32m---> 12\u001b[0;31m \u001b[0moptimal_params\u001b[0m\u001b[0;34m.\u001b[0m\u001b[0mfit\u001b[0m\u001b[0;34m(\u001b[0m\u001b[0mCX_train_scaled\u001b[0m\u001b[0;34m,\u001b[0m \u001b[0mCY_train\u001b[0m\u001b[0;34m)\u001b[0m\u001b[0;34m\u001b[0m\u001b[0;34m\u001b[0m\u001b[0m\n\u001b[0m\u001b[1;32m     13\u001b[0m \u001b[0mprint\u001b[0m\u001b[0;34m(\u001b[0m\u001b[0moptimal_params\u001b[0m\u001b[0;34m.\u001b[0m\u001b[0mbest_params_\u001b[0m\u001b[0;34m)\u001b[0m\u001b[0;34m\u001b[0m\u001b[0;34m\u001b[0m\u001b[0m\n",
      "\u001b[0;31mNameError\u001b[0m: name 'CX_train_scaled' is not defined"
     ]
    }
   ],
   "source": [
    "param_grid = [{ 'C':[0.5, 1, 10, 100], \n",
    "               'gamma': ['scale', 1, 0.1, 0.01, 0.001, 0.0001],\n",
    "              'kernel': ['linear', 'rbf'] },\n",
    "             ] #, 'sigmoid', 'poly'\n",
    "optimal_params = GridSearchCV(\n",
    "    SVC(),\n",
    "    param_grid,\n",
    "    cv = 5,\n",
    "    scoring='accuracy',\n",
    "    verbose = 0\n",
    ")\n",
    "optimal_params.fit(CX_train_scaled, CY_train)\n",
    "print(optimal_params.best_params_)"
   ]
  },
  {
   "cell_type": "code",
   "execution_count": 19,
   "metadata": {
    "ExecuteTime": {
     "end_time": "2022-02-22T09:36:51.976338Z",
     "start_time": "2022-02-22T09:36:51.627476Z"
    }
   },
   "outputs": [
    {
     "data": {
      "text/plain": [
       "SVC(C=1000, break_ties=False, cache_size=200, class_weight=None, coef0=0.0,\n",
       "    decision_function_shape='ovr', degree=3, gamma='scale', kernel='rbf',\n",
       "    max_iter=-1, probability=False, random_state=42, shrinking=True, tol=0.001,\n",
       "    verbose=False)"
      ]
     },
     "execution_count": 19,
     "metadata": {},
     "output_type": "execute_result"
    }
   ],
   "source": [
    "clf_svm = SVC(random_state=42, C=1000, gamma = 'scale', kernel='rbf')\n",
    "clf_svm.fit(X_train_scaled, y_train)\n",
    "# both linear and rbf with C=1000 seem to provide a score of approx ~ 0.71"
   ]
  },
  {
   "cell_type": "code",
   "execution_count": 20,
   "metadata": {},
   "outputs": [
    {
     "data": {
      "text/plain": [
       "0.7107913669064748"
      ]
     },
     "execution_count": 20,
     "metadata": {},
     "output_type": "execute_result"
    }
   ],
   "source": [
    "clf_svm.score(X_test_scaled, y_test) #Return the mean accuracy on the given test data and labels."
   ]
  },
  {
   "cell_type": "code",
   "execution_count": 21,
   "metadata": {
    "ExecuteTime": {
     "end_time": "2022-02-22T09:36:58.025789Z",
     "start_time": "2022-02-22T09:36:53.188154Z"
    },
    "scrolled": false
   },
   "outputs": [
    {
     "data": {
      "image/png": "[encoded data removed]",
      "text/plain": [
       "<Figure size 1080x1080 with 2 Axes>"
      ]
     },
     "metadata": {
      "needs_background": "light"
     },
     "output_type": "display_data"
    }
   ],
   "source": [
    "fig, ax = plt.subplots(figsize=(15, 15))\n",
    "plot_confusion_matrix(clf_svm, X_test_scaled, y_test, values_format = 'd', xticks_rotation = 'vertical', ax=ax)\n",
    "plt.show()"
   ]
  },
  {
   "cell_type": "code",
   "execution_count": 22,
   "metadata": {},
   "outputs": [
    {
     "name": "stdout",
     "output_type": "stream",
     "text": [
      "77.475\n"
     ]
    },
    {
     "name": "stderr",
     "output_type": "stream",
     "text": [
      "/opt/conda/lib/python3.7/site-packages/ipykernel_launcher.py:44: RuntimeWarning: invalid value encountered in long_scalars\n",
      "/opt/conda/lib/python3.7/site-packages/ipykernel_launcher.py:50: RuntimeWarning: invalid value encountered in long_scalars\n"
     ]
    }
   ],
   "source": [
    "#fp = false positives, fn = false negatives, tp = true positives, tn = true negatives\n",
    "\n",
    "#True counts\n",
    "#function returns the counts of each cancer in alphabetical order\n",
    "def sorted_counts(data):\n",
    "    uniques = []\n",
    "    count_dict = dict()\n",
    "    for i in data:\n",
    "        if i not in uniques:\n",
    "            uniques.append(i)\n",
    "            count_dict[i] = 1\n",
    "        else:\n",
    "            count_dict[i] += 1\n",
    "\n",
    "    counts_sorted = {key: value for key, value in \n",
    "                    sorted(count_dict.items())}\n",
    "    return counts_sorted\n",
    "\n",
    "true_dict = sorted_counts(y_test)\n",
    "\n",
    "#Defining quality parameters\n",
    "cf = confusion_matrix(y_test, clf_svm.predict(X_test_scaled)).T\n",
    "predicted_values = []\n",
    "fp_values = []\n",
    "for i in range(len(cf)):\n",
    "    predicted_values.append(cf[i][i])\n",
    "    fp_values.append(np.sum(cf[i]))\n",
    "tp_dict = dict()\n",
    "fp_dict = dict()\n",
    "fn_dict = dict()\n",
    "totals_dict = dict()\n",
    "counter = 0\n",
    "for key in true_dict.keys():\n",
    "    fn_dict[key] = true_dict[key] - predicted_values[counter]\n",
    "    tp_dict[key] = predicted_values[counter]\n",
    "    fp_dict[key] = fp_values[counter] - predicted_values[counter]\n",
    "    totals_dict[key] = fp_values[counter]\n",
    "    counter+=1\n",
    "    \n",
    "#precision, recall and accuracy methods:\n",
    "def accuracy(tp_dict, totals_dict):\n",
    "    a_dict = dict()\n",
    "    for key in tp_dict.keys():\n",
    "        a_dict[key] = round((tp_dict[key]/totals_dict[key]) *100, 1)\n",
    "    return a_dict\n",
    "\n",
    "def precision(tp_dict, fp_dict):\n",
    "    a_dict = dict()\n",
    "    for key in tp_dict.keys():\n",
    "        a_dict[key] = round((tp_dict[key] / (tp_dict[key] + fp_dict[key]))*100, 1)\n",
    "    return a_dict\n",
    "\n",
    "def recall(tp_dict, fn_dict):\n",
    "    a_dict = dict()\n",
    "    for key in tp_dict.keys():\n",
    "        a_dict[key] = round((tp_dict[key]/(tp_dict[key] + fn_dict[key]))*100, 1)\n",
    "    return a_dict\n",
    "\n",
    "#Quality metrics:\n",
    "#Model accuracy, recall and precision and the F1 measure\n",
    "model_accuracy = accuracy(tp_dict, totals_dict) #runtimeerror\n",
    "model_precision = precision(tp_dict, fp_dict) #runtimeerror\n",
    "model_recall = recall(tp_dict, fn_dict)\n",
    "F1_dict = dict() # value between 0 and 1\n",
    "for key in true_dict.keys():\n",
    "    F1_dict[key] = (2 * (model_precision[key] * model_recall[key]) / (model_precision[key] + model_recall[key]))/100\n",
    "\n",
    "\n",
    "#testing ground\n",
    "#print(true_dict) #correct liver-hcc 79 <- relevant elements\n",
    "#print()\n",
    "#print(fp_dict) #correct liver-hcc 3 <- missclasifications\n",
    "#print()\n",
    "#print(tp_dict) #correct liver-hcc 67 <- found relevant elements\n",
    "#print()\n",
    "#print(fn_dict) #correct liver-hcc 12 <-unfound relevant items (true_dict-tp_dict)\n",
    "#print()\n",
    "#print(totals_dict) #total amount of predictions per sample (tp + fp)\n",
    "\n",
    "#def sortValue(dictionary):\n",
    "#    return dict(sorted(dictionary.items(), key=lambda item: item[1]))\n",
    "#model_precision = sortValue(precision(tp_dict, fp_dict))\n",
    "#model_recall = sortValue(recall(tp_dict, fn_dict))\n",
    "#model_accuracy = sortValue(accuracy(true_dict, tp_dict))\n",
    "\n",
    "#model mean accuracy = 0.71 but results say 77,5? <- nan values\n",
    "total = 0\n",
    "keys = []\n",
    "for key in model_accuracy.keys():\n",
    "    if 'CNS-' in key:\n",
    "        keys.append(key)\n",
    "        total += model_accuracy[key]\n",
    "print(total / len(keys))"
   ]
  },
  {
   "cell_type": "code",
   "execution_count": 23,
   "metadata": {},
   "outputs": [
    {
     "ename": "AttributeError",
     "evalue": "type object 'PrecisionRecallDisplay' has no attribute 'from_estimator'",
     "output_type": "error",
     "traceback": [
      "\u001b[0;31m---------------------------------------------------------------------------\u001b[0m",
      "\u001b[0;31mAttributeError\u001b[0m                            Traceback (most recent call last)",
      "\u001b[0;32m<ipython-input-23-98ea7b964e2f>\u001b[0m in \u001b[0;36m<module>\u001b[0;34m\u001b[0m\n\u001b[1;32m      1\u001b[0m \u001b[0;32mfrom\u001b[0m \u001b[0msklearn\u001b[0m\u001b[0;34m.\u001b[0m\u001b[0mmetrics\u001b[0m \u001b[0;32mimport\u001b[0m \u001b[0mPrecisionRecallDisplay\u001b[0m\u001b[0;34m\u001b[0m\u001b[0;34m\u001b[0m\u001b[0m\n\u001b[0;32m----> 2\u001b[0;31m display = PrecisionRecallDisplay.from_estimator(\n\u001b[0m\u001b[1;32m      3\u001b[0m     \u001b[0mclf_svm\u001b[0m\u001b[0;34m,\u001b[0m \u001b[0mX_test_scaled\u001b[0m\u001b[0;34m,\u001b[0m \u001b[0my_test\u001b[0m\u001b[0;34m,\u001b[0m \u001b[0mname\u001b[0m\u001b[0;34m=\u001b[0m\u001b[0;34m\"LinearSVC\"\u001b[0m\u001b[0;34m\u001b[0m\u001b[0;34m\u001b[0m\u001b[0m\n\u001b[1;32m      4\u001b[0m )\n\u001b[1;32m      5\u001b[0m \u001b[0m_\u001b[0m \u001b[0;34m=\u001b[0m \u001b[0mdisplay\u001b[0m\u001b[0;34m.\u001b[0m\u001b[0max_\u001b[0m\u001b[0;34m.\u001b[0m\u001b[0mset_title\u001b[0m\u001b[0;34m(\u001b[0m\u001b[0;34m\"2-class Precision-Recall curve\"\u001b[0m\u001b[0;34m)\u001b[0m\u001b[0;34m\u001b[0m\u001b[0;34m\u001b[0m\u001b[0m\n",
      "\u001b[0;31mAttributeError\u001b[0m: type object 'PrecisionRecallDisplay' has no attribute 'from_estimator'"
     ]
    }
   ],
   "source": [
    "from sklearn.metrics import PrecisionRecallDisplay\n",
    "display = PrecisionRecallDisplay.from_estimator(\n",
    "    clf_svm, X_test_scaled, y_test, name=\"LinearSVC\"\n",
    ")\n",
    "_ = display.ax_.set_title(\"2-class Precision-Recall curve\")\n",
    "# optional recall vs precision plot, maybe we can make this work?"
   ]
  },
  {
   "cell_type": "markdown",
   "metadata": {},
   "source": [
    "Pricipal componen analysis"
   ]
  },
  {
   "cell_type": "code",
   "execution_count": 24,
   "metadata": {
    "ExecuteTime": {
     "end_time": "2022-02-22T08:43:46.776651Z",
     "start_time": "2022-02-22T08:43:46.773348Z"
    }
   },
   "outputs": [
    {
     "data": {
      "text/plain": [
       "97"
      ]
     },
     "execution_count": 24,
     "metadata": {},
     "output_type": "execute_result"
    }
   ],
   "source": [
    "len(PCAWG_wgs_mut_T.columns)"
   ]
  },
  {
   "cell_type": "code",
   "execution_count": 25,
   "metadata": {
    "ExecuteTime": {
     "end_time": "2022-02-22T08:43:47.021457Z",
     "start_time": "2022-02-22T08:43:46.778803Z"
    }
   },
   "outputs": [
    {
     "data": {
      "image/png": "[encoded data removed]",
      "text/plain": [
       "<Figure size 432x288 with 1 Axes>"
      ]
     },
     "metadata": {
      "needs_background": "light"
     },
     "output_type": "display_data"
    }
   ],
   "source": [
    "pca = PCA()\n",
    "X_train_pca = pca.fit_transform(X_train_scaled)\n",
    "\n",
    "per_var = np.round(pca.explained_variance_ratio_*100, decimals=1)\n",
    "labels = [str(x) for x in range(1, len(per_var) +1)]\n",
    "\n",
    "plt.bar(x = range(1,len(per_var)+1), height= per_var)\n",
    "plt.tick_params(\n",
    "    axis = 'x',\n",
    "    which = 'both',\n",
    "    bottom = False,\n",
    "    top = False,\n",
    "    labelbottom = False)\n",
    "plt.show()"
   ]
  },
  {
   "cell_type": "code",
   "execution_count": 26,
   "metadata": {
    "ExecuteTime": {
     "end_time": "2022-02-22T08:44:22.548159Z",
     "start_time": "2022-02-22T08:43:47.023188Z"
    }
   },
   "outputs": [
    {
     "name": "stderr",
     "output_type": "stream",
     "text": [
      "/opt/conda/lib/python3.7/site-packages/sklearn/model_selection/_split.py:667: UserWarning: The least populated class in y has only 1 members, which is less than n_splits=5.\n",
      "  % (min_groups, self.n_splits)), UserWarning)\n"
     ]
    },
    {
     "name": "stdout",
     "output_type": "stream",
     "text": [
      "{'C': 1000, 'gamma': 1, 'kernel': 'rbf'}\n"
     ]
    }
   ],
   "source": [
    "train_pc1_coords = X_train_pca[:, 0]\n",
    "train_pc2_coords = X_train_pca[:, 1]\n",
    "\n",
    "pca_train_scaled = scale(np.column_stack((train_pc1_coords, train_pc2_coords)))\n",
    "\n",
    "param_grid = [{ 'C':[1, 10, 100, 1000], \n",
    "               'gamma': ['scale', 1, 0.1, 0.01, 0.001, 0.0001],\n",
    "              'kernel': ['rbf'] },\n",
    "             ]\n",
    "optimal_params = GridSearchCV(\n",
    "    SVC(),\n",
    "    param_grid,\n",
    "    cv = 5,\n",
    "    scoring='accuracy',\n",
    "    verbose = 0\n",
    ")\n",
    "optimal_params.fit(pca_train_scaled, y_train)\n",
    "print(optimal_params.best_params_)"
   ]
  },
  {
   "cell_type": "code",
   "execution_count": 36,
   "metadata": {
    "ExecuteTime": {
     "end_time": "2022-02-22T08:44:23.504835Z",
     "start_time": "2022-02-22T08:44:22.549502Z"
    }
   },
   "outputs": [
    {
     "data": {
      "text/plain": [
       "SVC(C=1000, break_ties=False, cache_size=200, class_weight=None, coef0=0.0,\n",
       "    decision_function_shape='ovr', degree=3, gamma=1, kernel='rbf', max_iter=-1,\n",
       "    probability=False, random_state=42, shrinking=True, tol=0.001,\n",
       "    verbose=False)"
      ]
     },
     "execution_count": 36,
     "metadata": {},
     "output_type": "execute_result"
    }
   ],
   "source": [
    "clf_svm = SVC(random_state=42, C=1000, gamma = 1)\n",
    "clf_svm.fit(pca_train_scaled, y_train)"
   ]
  },
  {
   "cell_type": "code",
   "execution_count": 46,
   "metadata": {
    "ExecuteTime": {
     "end_time": "2022-02-22T08:44:23.522261Z",
     "start_time": "2022-02-22T08:44:23.506102Z"
    }
   },
   "outputs": [],
   "source": [
    "X_test_pca = pca.transform(X_train_scaled)\n",
    "test_pc1_coords = X_test_pca[:, 0]\n",
    "test_pc2_coords = X_test_pca[:, 1]\n",
    "\n",
    "x_min = test_pc1_coords.min() -1\n",
    "x_max = test_pc1_coords.max() + 1\n",
    "\n",
    "y_min = test_pc2_coords.min() -1\n",
    "y_max = test_pc2_coords.max() + 1\n",
    "\n",
    "xx, yy = np.meshgrid(np.arange(start = x_min, stop = x_max, step = 0.1), \n",
    "                    np.arange(start = y_min, stop= y_max, step=0.1))"
   ]
  },
  {
   "cell_type": "code",
   "execution_count": null,
   "metadata": {
    "ExecuteTime": {
     "end_time": "2022-02-18T10:34:11.167641Z",
     "start_time": "2022-02-18T10:34:11.164150Z"
    }
   },
   "outputs": [],
   "source": []
  },
  {
   "cell_type": "code",
   "execution_count": 47,
   "metadata": {
    "ExecuteTime": {
     "end_time": "2022-02-22T08:44:23.525796Z",
     "start_time": "2022-02-22T08:44:23.523745Z"
    }
   },
   "outputs": [],
   "source": [
    "Z = clf_svm.predict(np.column_stack((xx.ravel(), yy.ravel())))\n",
    "\n",
    "Z = Z.reshape(xx.shape)"
   ]
  },
  {
   "cell_type": "code",
   "execution_count": null,
   "metadata": {},
   "outputs": [],
   "source": []
  },
  {
   "cell_type": "code",
   "execution_count": 48,
   "metadata": {
    "ExecuteTime": {
     "end_time": "2022-02-22T08:44:23.528884Z",
     "start_time": "2022-02-22T08:44:23.527105Z"
    }
   },
   "outputs": [
    {
     "ename": "ValueError",
     "evalue": "could not convert string to float: 'Eso-AdenoCA'",
     "output_type": "error",
     "traceback": [
      "\u001b[0;31m---------------------------------------------------------------------------\u001b[0m",
      "\u001b[0;31mValueError\u001b[0m                                Traceback (most recent call last)",
      "\u001b[0;32m<ipython-input-48-94b77e68ac55>\u001b[0m in \u001b[0;36m<module>\u001b[0;34m\u001b[0m\n\u001b[0;32m----> 1\u001b[0;31m \u001b[0max\u001b[0m\u001b[0;34m.\u001b[0m\u001b[0mcontourf\u001b[0m\u001b[0;34m(\u001b[0m\u001b[0mxx\u001b[0m\u001b[0;34m,\u001b[0m \u001b[0myy\u001b[0m\u001b[0;34m,\u001b[0m \u001b[0mZ\u001b[0m\u001b[0;34m,\u001b[0m \u001b[0malpha\u001b[0m \u001b[0;34m=\u001b[0m \u001b[0;36m0.1\u001b[0m\u001b[0;34m)\u001b[0m\u001b[0;34m\u001b[0m\u001b[0;34m\u001b[0m\u001b[0m\n\u001b[0m\u001b[1;32m      2\u001b[0m \u001b[0mcmap\u001b[0m \u001b[0;34m=\u001b[0m  \u001b[0mcolors\u001b[0m\u001b[0;34m.\u001b[0m\u001b[0mListedColormap\u001b[0m\u001b[0;34m(\u001b[0m\u001b[0;34m[\u001b[0m\u001b[0;34m'#e41a1c'\u001b[0m\u001b[0;34m,\u001b[0m \u001b[0;34m'#4daf4a'\u001b[0m\u001b[0;34m]\u001b[0m\u001b[0;34m)\u001b[0m\u001b[0;34m\u001b[0m\u001b[0;34m\u001b[0m\u001b[0m\n\u001b[1;32m      3\u001b[0m \u001b[0mplt\u001b[0m\u001b[0;34m.\u001b[0m\u001b[0mfigure\u001b[0m\u001b[0;34m(\u001b[0m\u001b[0mfigsize\u001b[0m\u001b[0;34m=\u001b[0m\u001b[0;34m(\u001b[0m\u001b[0;36m15\u001b[0m\u001b[0;34m,\u001b[0m \u001b[0;36m15\u001b[0m\u001b[0;34m)\u001b[0m\u001b[0;34m)\u001b[0m\u001b[0;34m\u001b[0m\u001b[0;34m\u001b[0m\u001b[0m\n\u001b[1;32m      4\u001b[0m \u001b[0mplt\u001b[0m\u001b[0;34m.\u001b[0m\u001b[0mscatter\u001b[0m\u001b[0;34m(\u001b[0m\u001b[0mtest_pc1_coords\u001b[0m\u001b[0;34m,\u001b[0m \u001b[0mtest_pc2_coords\u001b[0m\u001b[0;34m,\u001b[0m  \u001b[0mc\u001b[0m\u001b[0;34m=\u001b[0m\u001b[0;34m[\u001b[0m\u001b[0mx\u001b[0m \u001b[0;32mfor\u001b[0m \u001b[0mx\u001b[0m \u001b[0;32min\u001b[0m \u001b[0mrange\u001b[0m\u001b[0;34m(\u001b[0m\u001b[0mlen\u001b[0m\u001b[0;34m(\u001b[0m\u001b[0my_train\u001b[0m\u001b[0;34m)\u001b[0m\u001b[0;34m)\u001b[0m\u001b[0;34m]\u001b[0m\u001b[0;34m,\u001b[0m \u001b[0mcmap\u001b[0m\u001b[0;34m=\u001b[0m\u001b[0mcmap\u001b[0m\u001b[0;34m,\u001b[0m \u001b[0ms\u001b[0m\u001b[0;34m=\u001b[0m\u001b[0;36m100\u001b[0m\u001b[0;34m,\u001b[0m \u001b[0medgecolors\u001b[0m\u001b[0;34m=\u001b[0m\u001b[0;34m'k'\u001b[0m\u001b[0;34m,\u001b[0m \u001b[0malpha\u001b[0m\u001b[0;34m=\u001b[0m\u001b[0;36m0.7\u001b[0m\u001b[0;34m)\u001b[0m\u001b[0;34m\u001b[0m\u001b[0;34m\u001b[0m\u001b[0m\n\u001b[1;32m      5\u001b[0m \u001b[0mplt\u001b[0m\u001b[0;34m.\u001b[0m\u001b[0mshow\u001b[0m\u001b[0;34m(\u001b[0m\u001b[0;34m)\u001b[0m\u001b[0;34m\u001b[0m\u001b[0;34m\u001b[0m\u001b[0m\n",
      "\u001b[0;32m/opt/conda/lib/python3.7/site-packages/matplotlib/__init__.py\u001b[0m in \u001b[0;36minner\u001b[0;34m(ax, data, *args, **kwargs)\u001b[0m\n\u001b[1;32m   1563\u001b[0m     \u001b[0;32mdef\u001b[0m \u001b[0minner\u001b[0m\u001b[0;34m(\u001b[0m\u001b[0max\u001b[0m\u001b[0;34m,\u001b[0m \u001b[0;34m*\u001b[0m\u001b[0margs\u001b[0m\u001b[0;34m,\u001b[0m \u001b[0mdata\u001b[0m\u001b[0;34m=\u001b[0m\u001b[0;32mNone\u001b[0m\u001b[0;34m,\u001b[0m \u001b[0;34m**\u001b[0m\u001b[0mkwargs\u001b[0m\u001b[0;34m)\u001b[0m\u001b[0;34m:\u001b[0m\u001b[0;34m\u001b[0m\u001b[0;34m\u001b[0m\u001b[0m\n\u001b[1;32m   1564\u001b[0m         \u001b[0;32mif\u001b[0m \u001b[0mdata\u001b[0m \u001b[0;32mis\u001b[0m \u001b[0;32mNone\u001b[0m\u001b[0;34m:\u001b[0m\u001b[0;34m\u001b[0m\u001b[0;34m\u001b[0m\u001b[0m\n\u001b[0;32m-> 1565\u001b[0;31m             \u001b[0;32mreturn\u001b[0m \u001b[0mfunc\u001b[0m\u001b[0;34m(\u001b[0m\u001b[0max\u001b[0m\u001b[0;34m,\u001b[0m \u001b[0;34m*\u001b[0m\u001b[0mmap\u001b[0m\u001b[0;34m(\u001b[0m\u001b[0msanitize_sequence\u001b[0m\u001b[0;34m,\u001b[0m \u001b[0margs\u001b[0m\u001b[0;34m)\u001b[0m\u001b[0;34m,\u001b[0m \u001b[0;34m**\u001b[0m\u001b[0mkwargs\u001b[0m\u001b[0;34m)\u001b[0m\u001b[0;34m\u001b[0m\u001b[0;34m\u001b[0m\u001b[0m\n\u001b[0m\u001b[1;32m   1566\u001b[0m \u001b[0;34m\u001b[0m\u001b[0m\n\u001b[1;32m   1567\u001b[0m         \u001b[0mbound\u001b[0m \u001b[0;34m=\u001b[0m \u001b[0mnew_sig\u001b[0m\u001b[0;34m.\u001b[0m\u001b[0mbind\u001b[0m\u001b[0;34m(\u001b[0m\u001b[0max\u001b[0m\u001b[0;34m,\u001b[0m \u001b[0;34m*\u001b[0m\u001b[0margs\u001b[0m\u001b[0;34m,\u001b[0m \u001b[0;34m**\u001b[0m\u001b[0mkwargs\u001b[0m\u001b[0;34m)\u001b[0m\u001b[0;34m\u001b[0m\u001b[0;34m\u001b[0m\u001b[0m\n",
      "\u001b[0;32m/opt/conda/lib/python3.7/site-packages/matplotlib/axes/_axes.py\u001b[0m in \u001b[0;36mcontourf\u001b[0;34m(self, *args, **kwargs)\u001b[0m\n\u001b[1;32m   6332\u001b[0m     \u001b[0;32mdef\u001b[0m \u001b[0mcontourf\u001b[0m\u001b[0;34m(\u001b[0m\u001b[0mself\u001b[0m\u001b[0;34m,\u001b[0m \u001b[0;34m*\u001b[0m\u001b[0margs\u001b[0m\u001b[0;34m,\u001b[0m \u001b[0;34m**\u001b[0m\u001b[0mkwargs\u001b[0m\u001b[0;34m)\u001b[0m\u001b[0;34m:\u001b[0m\u001b[0;34m\u001b[0m\u001b[0;34m\u001b[0m\u001b[0m\n\u001b[1;32m   6333\u001b[0m         \u001b[0mkwargs\u001b[0m\u001b[0;34m[\u001b[0m\u001b[0;34m'filled'\u001b[0m\u001b[0;34m]\u001b[0m \u001b[0;34m=\u001b[0m \u001b[0;32mTrue\u001b[0m\u001b[0;34m\u001b[0m\u001b[0;34m\u001b[0m\u001b[0m\n\u001b[0;32m-> 6334\u001b[0;31m         \u001b[0mcontours\u001b[0m \u001b[0;34m=\u001b[0m \u001b[0mmcontour\u001b[0m\u001b[0;34m.\u001b[0m\u001b[0mQuadContourSet\u001b[0m\u001b[0;34m(\u001b[0m\u001b[0mself\u001b[0m\u001b[0;34m,\u001b[0m \u001b[0;34m*\u001b[0m\u001b[0margs\u001b[0m\u001b[0;34m,\u001b[0m \u001b[0;34m**\u001b[0m\u001b[0mkwargs\u001b[0m\u001b[0;34m)\u001b[0m\u001b[0;34m\u001b[0m\u001b[0;34m\u001b[0m\u001b[0m\n\u001b[0m\u001b[1;32m   6335\u001b[0m         \u001b[0mself\u001b[0m\u001b[0;34m.\u001b[0m\u001b[0m_request_autoscale_view\u001b[0m\u001b[0;34m(\u001b[0m\u001b[0;34m)\u001b[0m\u001b[0;34m\u001b[0m\u001b[0;34m\u001b[0m\u001b[0m\n\u001b[1;32m   6336\u001b[0m         \u001b[0;32mreturn\u001b[0m \u001b[0mcontours\u001b[0m\u001b[0;34m\u001b[0m\u001b[0;34m\u001b[0m\u001b[0m\n",
      "\u001b[0;32m/opt/conda/lib/python3.7/site-packages/matplotlib/contour.py\u001b[0m in \u001b[0;36m__init__\u001b[0;34m(self, ax, levels, filled, linewidths, linestyles, alpha, origin, extent, cmap, colors, norm, vmin, vmax, extend, antialiased, *args, **kwargs)\u001b[0m\n\u001b[1;32m    820\u001b[0m         \u001b[0mself\u001b[0m\u001b[0;34m.\u001b[0m\u001b[0m_transform\u001b[0m \u001b[0;34m=\u001b[0m \u001b[0mkwargs\u001b[0m\u001b[0;34m.\u001b[0m\u001b[0mpop\u001b[0m\u001b[0;34m(\u001b[0m\u001b[0;34m'transform'\u001b[0m\u001b[0;34m,\u001b[0m \u001b[0;32mNone\u001b[0m\u001b[0;34m)\u001b[0m\u001b[0;34m\u001b[0m\u001b[0;34m\u001b[0m\u001b[0m\n\u001b[1;32m    821\u001b[0m \u001b[0;34m\u001b[0m\u001b[0m\n\u001b[0;32m--> 822\u001b[0;31m         \u001b[0mkwargs\u001b[0m \u001b[0;34m=\u001b[0m \u001b[0mself\u001b[0m\u001b[0;34m.\u001b[0m\u001b[0m_process_args\u001b[0m\u001b[0;34m(\u001b[0m\u001b[0;34m*\u001b[0m\u001b[0margs\u001b[0m\u001b[0;34m,\u001b[0m \u001b[0;34m**\u001b[0m\u001b[0mkwargs\u001b[0m\u001b[0;34m)\u001b[0m\u001b[0;34m\u001b[0m\u001b[0;34m\u001b[0m\u001b[0m\n\u001b[0m\u001b[1;32m    823\u001b[0m         \u001b[0mself\u001b[0m\u001b[0;34m.\u001b[0m\u001b[0m_process_levels\u001b[0m\u001b[0;34m(\u001b[0m\u001b[0;34m)\u001b[0m\u001b[0;34m\u001b[0m\u001b[0;34m\u001b[0m\u001b[0m\n\u001b[1;32m    824\u001b[0m \u001b[0;34m\u001b[0m\u001b[0m\n",
      "\u001b[0;32m/opt/conda/lib/python3.7/site-packages/matplotlib/contour.py\u001b[0m in \u001b[0;36m_process_args\u001b[0;34m(self, *args, **kwargs)\u001b[0m\n\u001b[1;32m   1417\u001b[0m                 \u001b[0mself\u001b[0m\u001b[0;34m.\u001b[0m\u001b[0m_corner_mask\u001b[0m \u001b[0;34m=\u001b[0m \u001b[0mmpl\u001b[0m\u001b[0;34m.\u001b[0m\u001b[0mrcParams\u001b[0m\u001b[0;34m[\u001b[0m\u001b[0;34m'contour.corner_mask'\u001b[0m\u001b[0;34m]\u001b[0m\u001b[0;34m\u001b[0m\u001b[0;34m\u001b[0m\u001b[0m\n\u001b[1;32m   1418\u001b[0m \u001b[0;34m\u001b[0m\u001b[0m\n\u001b[0;32m-> 1419\u001b[0;31m             \u001b[0mx\u001b[0m\u001b[0;34m,\u001b[0m \u001b[0my\u001b[0m\u001b[0;34m,\u001b[0m \u001b[0mz\u001b[0m \u001b[0;34m=\u001b[0m \u001b[0mself\u001b[0m\u001b[0;34m.\u001b[0m\u001b[0m_contour_args\u001b[0m\u001b[0;34m(\u001b[0m\u001b[0margs\u001b[0m\u001b[0;34m,\u001b[0m \u001b[0mkwargs\u001b[0m\u001b[0;34m)\u001b[0m\u001b[0;34m\u001b[0m\u001b[0;34m\u001b[0m\u001b[0m\n\u001b[0m\u001b[1;32m   1420\u001b[0m \u001b[0;34m\u001b[0m\u001b[0m\n\u001b[1;32m   1421\u001b[0m             \u001b[0m_mask\u001b[0m \u001b[0;34m=\u001b[0m \u001b[0mma\u001b[0m\u001b[0;34m.\u001b[0m\u001b[0mgetmask\u001b[0m\u001b[0;34m(\u001b[0m\u001b[0mz\u001b[0m\u001b[0;34m)\u001b[0m\u001b[0;34m\u001b[0m\u001b[0;34m\u001b[0m\u001b[0m\n",
      "\u001b[0;32m/opt/conda/lib/python3.7/site-packages/matplotlib/contour.py\u001b[0m in \u001b[0;36m_contour_args\u001b[0;34m(self, args, kwargs)\u001b[0m\n\u001b[1;32m   1475\u001b[0m             \u001b[0margs\u001b[0m \u001b[0;34m=\u001b[0m \u001b[0margs\u001b[0m\u001b[0;34m[\u001b[0m\u001b[0;36m1\u001b[0m\u001b[0;34m:\u001b[0m\u001b[0;34m]\u001b[0m\u001b[0;34m\u001b[0m\u001b[0;34m\u001b[0m\u001b[0m\n\u001b[1;32m   1476\u001b[0m         \u001b[0;32melif\u001b[0m \u001b[0mNargs\u001b[0m \u001b[0;34m<=\u001b[0m \u001b[0;36m4\u001b[0m\u001b[0;34m:\u001b[0m\u001b[0;34m\u001b[0m\u001b[0;34m\u001b[0m\u001b[0m\n\u001b[0;32m-> 1477\u001b[0;31m             \u001b[0mx\u001b[0m\u001b[0;34m,\u001b[0m \u001b[0my\u001b[0m\u001b[0;34m,\u001b[0m \u001b[0mz\u001b[0m \u001b[0;34m=\u001b[0m \u001b[0mself\u001b[0m\u001b[0;34m.\u001b[0m\u001b[0m_check_xyz\u001b[0m\u001b[0;34m(\u001b[0m\u001b[0margs\u001b[0m\u001b[0;34m[\u001b[0m\u001b[0;34m:\u001b[0m\u001b[0;36m3\u001b[0m\u001b[0;34m]\u001b[0m\u001b[0;34m,\u001b[0m \u001b[0mkwargs\u001b[0m\u001b[0;34m)\u001b[0m\u001b[0;34m\u001b[0m\u001b[0;34m\u001b[0m\u001b[0m\n\u001b[0m\u001b[1;32m   1478\u001b[0m             \u001b[0margs\u001b[0m \u001b[0;34m=\u001b[0m \u001b[0margs\u001b[0m\u001b[0;34m[\u001b[0m\u001b[0;36m3\u001b[0m\u001b[0;34m:\u001b[0m\u001b[0;34m]\u001b[0m\u001b[0;34m\u001b[0m\u001b[0;34m\u001b[0m\u001b[0m\n\u001b[1;32m   1479\u001b[0m         \u001b[0;32melse\u001b[0m\u001b[0;34m:\u001b[0m\u001b[0;34m\u001b[0m\u001b[0;34m\u001b[0m\u001b[0m\n",
      "\u001b[0;32m/opt/conda/lib/python3.7/site-packages/matplotlib/contour.py\u001b[0m in \u001b[0;36m_check_xyz\u001b[0;34m(self, args, kwargs)\u001b[0m\n\u001b[1;32m   1503\u001b[0m         \u001b[0mx\u001b[0m \u001b[0;34m=\u001b[0m \u001b[0mnp\u001b[0m\u001b[0;34m.\u001b[0m\u001b[0masarray\u001b[0m\u001b[0;34m(\u001b[0m\u001b[0mx\u001b[0m\u001b[0;34m,\u001b[0m \u001b[0mdtype\u001b[0m\u001b[0;34m=\u001b[0m\u001b[0mnp\u001b[0m\u001b[0;34m.\u001b[0m\u001b[0mfloat64\u001b[0m\u001b[0;34m)\u001b[0m\u001b[0;34m\u001b[0m\u001b[0;34m\u001b[0m\u001b[0m\n\u001b[1;32m   1504\u001b[0m         \u001b[0my\u001b[0m \u001b[0;34m=\u001b[0m \u001b[0mnp\u001b[0m\u001b[0;34m.\u001b[0m\u001b[0masarray\u001b[0m\u001b[0;34m(\u001b[0m\u001b[0my\u001b[0m\u001b[0;34m,\u001b[0m \u001b[0mdtype\u001b[0m\u001b[0;34m=\u001b[0m\u001b[0mnp\u001b[0m\u001b[0;34m.\u001b[0m\u001b[0mfloat64\u001b[0m\u001b[0;34m)\u001b[0m\u001b[0;34m\u001b[0m\u001b[0;34m\u001b[0m\u001b[0m\n\u001b[0;32m-> 1505\u001b[0;31m         \u001b[0mz\u001b[0m \u001b[0;34m=\u001b[0m \u001b[0mma\u001b[0m\u001b[0;34m.\u001b[0m\u001b[0masarray\u001b[0m\u001b[0;34m(\u001b[0m\u001b[0margs\u001b[0m\u001b[0;34m[\u001b[0m\u001b[0;36m2\u001b[0m\u001b[0;34m]\u001b[0m\u001b[0;34m,\u001b[0m \u001b[0mdtype\u001b[0m\u001b[0;34m=\u001b[0m\u001b[0mnp\u001b[0m\u001b[0;34m.\u001b[0m\u001b[0mfloat64\u001b[0m\u001b[0;34m)\u001b[0m\u001b[0;34m\u001b[0m\u001b[0;34m\u001b[0m\u001b[0m\n\u001b[0m\u001b[1;32m   1506\u001b[0m \u001b[0;34m\u001b[0m\u001b[0m\n\u001b[1;32m   1507\u001b[0m         \u001b[0;32mif\u001b[0m \u001b[0mz\u001b[0m\u001b[0;34m.\u001b[0m\u001b[0mndim\u001b[0m \u001b[0;34m!=\u001b[0m \u001b[0;36m2\u001b[0m\u001b[0;34m:\u001b[0m\u001b[0;34m\u001b[0m\u001b[0;34m\u001b[0m\u001b[0m\n",
      "\u001b[0;32m/opt/conda/lib/python3.7/site-packages/numpy/ma/core.py\u001b[0m in \u001b[0;36masarray\u001b[0;34m(a, dtype, order)\u001b[0m\n\u001b[1;32m   7847\u001b[0m     \u001b[0morder\u001b[0m \u001b[0;34m=\u001b[0m \u001b[0morder\u001b[0m \u001b[0;32mor\u001b[0m \u001b[0;34m'C'\u001b[0m\u001b[0;34m\u001b[0m\u001b[0;34m\u001b[0m\u001b[0m\n\u001b[1;32m   7848\u001b[0m     return masked_array(a, dtype=dtype, copy=False, keep_mask=True,\n\u001b[0;32m-> 7849\u001b[0;31m                         subok=False, order=order)\n\u001b[0m\u001b[1;32m   7850\u001b[0m \u001b[0;34m\u001b[0m\u001b[0m\n\u001b[1;32m   7851\u001b[0m \u001b[0;34m\u001b[0m\u001b[0m\n",
      "\u001b[0;32m/opt/conda/lib/python3.7/site-packages/numpy/ma/core.py\u001b[0m in \u001b[0;36m__new__\u001b[0;34m(cls, data, mask, dtype, copy, subok, ndmin, fill_value, keep_mask, hard_mask, shrink, order, **options)\u001b[0m\n\u001b[1;32m   2793\u001b[0m         \u001b[0;31m# Process data.\u001b[0m\u001b[0;34m\u001b[0m\u001b[0;34m\u001b[0m\u001b[0;34m\u001b[0m\u001b[0m\n\u001b[1;32m   2794\u001b[0m         _data = np.array(data, dtype=dtype, copy=copy,\n\u001b[0;32m-> 2795\u001b[0;31m                          order=order, subok=True, ndmin=ndmin)\n\u001b[0m\u001b[1;32m   2796\u001b[0m         \u001b[0m_baseclass\u001b[0m \u001b[0;34m=\u001b[0m \u001b[0mgetattr\u001b[0m\u001b[0;34m(\u001b[0m\u001b[0mdata\u001b[0m\u001b[0;34m,\u001b[0m \u001b[0;34m'_baseclass'\u001b[0m\u001b[0;34m,\u001b[0m \u001b[0mtype\u001b[0m\u001b[0;34m(\u001b[0m\u001b[0m_data\u001b[0m\u001b[0;34m)\u001b[0m\u001b[0;34m)\u001b[0m\u001b[0;34m\u001b[0m\u001b[0;34m\u001b[0m\u001b[0m\n\u001b[1;32m   2797\u001b[0m         \u001b[0;31m# Check that we're not erasing the mask.\u001b[0m\u001b[0;34m\u001b[0m\u001b[0;34m\u001b[0m\u001b[0;34m\u001b[0m\u001b[0m\n",
      "\u001b[0;31mValueError\u001b[0m: could not convert string to float: 'Eso-AdenoCA'"
     ]
    }
   ],
   "source": [
    "ax.contourf(xx, yy, Z, alpha = 0.1)\n",
    "cmap =  colors.ListedColormap(['#e41a1c', '#4daf4a'])\n",
    "plt.figure(figsize=(15, 15))\n",
    "plt.scatter(test_pc1_coords, test_pc2_coords,  c=[x for x in range(len(y_train))], cmap=cmap, s=100, edgecolors='k', alpha=0.7)\n",
    "plt.show()"
   ]
  },
  {
   "cell_type": "code",
   "execution_count": 31,
   "metadata": {
    "ExecuteTime": {
     "end_time": "2022-02-22T08:44:23.532029Z",
     "start_time": "2022-02-22T08:44:23.530170Z"
    }
   },
   "outputs": [],
   "source": [
    "#Central nervous system subgroup\n",
    "sample_group = ('CNS-GBM','CNS-Medullo','CNS-Oligo','CNS-PiloAstro')\n",
    "keys = []\n",
    "CX = X.copy()\n",
    "for key in CX.T.keys():\n",
    "    for sample in sample_group:\n",
    "        if sample in key:\n",
    "            keys.append(key)\n",
    "CX = CX.loc[[key for key in keys]]\n",
    "CY = y.copy()\n",
    "CY = CY.loc[[key for key in keys]]\n",
    "scaled_CX = scale(CX)\n",
    "CX_train_scaled, CX_test_scaled, CY_train, CY_test = train_test_split(scaled_CX,CY, random_state=42)"
   ]
  },
  {
   "cell_type": "code",
   "execution_count": 33,
   "metadata": {},
   "outputs": [
    {
     "data": {
      "text/plain": [
       "0.9054054054054054"
      ]
     },
     "execution_count": 33,
     "metadata": {},
     "output_type": "execute_result"
    }
   ],
   "source": [
    "clf_svm = SVC(random_state=42, C=1, gamma = 'scale', kernel='linear')\n",
    "clf_svm.fit(CX_train_scaled, CY_train)\n",
    "clf_svm.score(CX_test_scaled, CY_test) #Return the mean accuracy on the given test data and labels."
   ]
  },
  {
   "cell_type": "code",
   "execution_count": 34,
   "metadata": {},
   "outputs": [
    {
     "data": {
      "image/png": "[encoded data removed]",
      "text/plain": [
       "<Figure size 1080x1080 with 2 Axes>"
      ]
     },
     "metadata": {
      "needs_background": "light"
     },
     "output_type": "display_data"
    }
   ],
   "source": [
    "fig, ax = plt.subplots(figsize=(15, 15))\n",
    "plot_confusion_matrix(clf_svm, CX_test_scaled, CY_test, values_format = 'd', xticks_rotation = 'vertical', ax=ax)\n",
    "plt.show()"
   ]
  },
  {
   "cell_type": "code",
   "execution_count": null,
   "metadata": {},
   "outputs": [],
   "source": []
  }
 ],
 "metadata": {
  "kernelspec": {
   "display_name": "Python 3",
   "language": "python",
   "name": "python3"
  },
  "language_info": {
   "codemirror_mode": {
    "name": "ipython",
    "version": 3
   },
   "file_extension": ".py",
   "mimetype": "text/x-python",
   "name": "python",
   "nbconvert_exporter": "python",
   "pygments_lexer": "ipython3",
   "version": "3.7.6"
  },
  "varInspector": {
   "cols": {
    "lenName": 16,
    "lenType": 16,
    "lenVar": 40
   },
   "kernels_config": {
    "python": {
     "delete_cmd_postfix": "",
     "delete_cmd_prefix": "del ",
     "library": "var_list.py",
     "varRefreshCmd": "print(var_dic_list())"
    },
    "r": {
     "delete_cmd_postfix": ") ",
     "delete_cmd_prefix": "rm(",
     "library": "var_list.r",
     "varRefreshCmd": "cat(var_dic_list()) "
    }
   },
   "types_to_exclude": [
    "module",
    "function",
    "builtin_function_or_method",
    "instance",
    "_Feature"
   ],
   "window_display": false
  }
 },
 "nbformat": 4,
 "nbformat_minor": 4
}
