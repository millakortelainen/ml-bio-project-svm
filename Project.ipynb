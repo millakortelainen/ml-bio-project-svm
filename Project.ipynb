{
 "cells": [
  {
   "cell_type": "code",
   "execution_count": 2,
   "metadata": {
    "ExecuteTime": {
     "end_time": "2022-02-22T08:41:07.203979Z",
     "start_time": "2022-02-22T08:41:07.197701Z"
    }
   },
   "outputs": [],
   "source": [
    "import pandas as pd\n",
    "import re\n",
    "import matplotlib.pyplot as plt\n",
    "import matplotlib.colors as colors\n",
    "import seaborn as sns\n",
    "import sys\n",
    "import scipy\n",
    "import numpy as np\n",
    "import sklearn\n",
    "from matplotlib import pyplot\n",
    "from sklearn.model_selection import train_test_split\n",
    "from sklearn.model_selection import GridSearchCV\n",
    "from sklearn.preprocessing import scale\n",
    "from sklearn.svm import SVC\n",
    "from sklearn.metrics import confusion_matrix\n",
    "from sklearn.metrics import plot_confusion_matrix\n",
    "from sklearn.decomposition import PCA\n",
    "from sklearn.utils import resample"
   ]
  },
  {
   "cell_type": "markdown",
   "metadata": {},
   "source": [
    "## Activities"
   ]
  },
  {
   "cell_type": "code",
   "execution_count": 3,
   "metadata": {
    "ExecuteTime": {
     "end_time": "2022-02-22T08:41:07.227551Z",
     "start_time": "2022-02-22T08:41:07.206690Z"
    }
   },
   "outputs": [
    {
     "name": "stdout",
     "output_type": "stream",
     "text": [
      "(1865, 68)\n"
     ]
    }
   ],
   "source": [
    "dataset_WGS_Other_act = pd.read_csv('./project_data/activities/WGS/WGS_Other.activities.csv')\n",
    "print(dataset_WGS_Other_act.shape)"
   ]
  },
  {
   "cell_type": "code",
   "execution_count": 4,
   "metadata": {
    "ExecuteTime": {
     "end_time": "2022-02-22T08:41:07.250953Z",
     "start_time": "2022-02-22T08:41:07.229301Z"
    }
   },
   "outputs": [
    {
     "name": "stdout",
     "output_type": "stream",
     "text": [
      "(2780, 68)\n"
     ]
    }
   ],
   "source": [
    "dataset_WGS_PCAWG_act = pd.read_csv('./project_data/activities/WGS/WGS_PCAWG.activities.csv')\n",
    "print(dataset_WGS_PCAWG_act.shape)"
   ]
  },
  {
   "cell_type": "code",
   "execution_count": 5,
   "metadata": {
    "ExecuteTime": {
     "end_time": "2022-02-22T08:41:07.297952Z",
     "start_time": "2022-02-22T08:41:07.252557Z"
    }
   },
   "outputs": [
    {
     "name": "stdout",
     "output_type": "stream",
     "text": [
      "(9691, 68)\n"
     ]
    }
   ],
   "source": [
    "dataset_WES_Other_act = pd.read_csv('./project_data/activities/WES/WES_Other.activities.csv')\n",
    "print(dataset_WES_Other_act.shape)"
   ]
  },
  {
   "cell_type": "code",
   "execution_count": 6,
   "metadata": {
    "ExecuteTime": {
     "end_time": "2022-02-22T08:41:07.360885Z",
     "start_time": "2022-02-22T08:41:07.299685Z"
    }
   },
   "outputs": [
    {
     "name": "stdout",
     "output_type": "stream",
     "text": [
      "(9493, 68)\n"
     ]
    }
   ],
   "source": [
    "dataset_WES_TCGA_act = pd.read_csv('./project_data/activities/WES/WES_TCGA.activities.csv')\n",
    "print(dataset_WES_TCGA_act.shape)"
   ]
  },
  {
   "cell_type": "markdown",
   "metadata": {},
   "source": [
    "## Catalogs"
   ]
  },
  {
   "cell_type": "code",
   "execution_count": 7,
   "metadata": {
    "ExecuteTime": {
     "end_time": "2022-02-22T08:41:07.471523Z",
     "start_time": "2022-02-22T08:41:07.362710Z"
    }
   },
   "outputs": [],
   "source": [
    "nonPCAWG_wgs_mut = pd.read_csv('./project_data/catalogs/WGS/WGS_Other.96.csv')"
   ]
  },
  {
   "cell_type": "code",
   "execution_count": 8,
   "metadata": {
    "ExecuteTime": {
     "end_time": "2022-02-22T08:41:07.623486Z",
     "start_time": "2022-02-22T08:41:07.473807Z"
    }
   },
   "outputs": [],
   "source": [
    "PCAWG_wgs_mut = pd.read_csv('./project_data/catalogs/WGS/WGS_PCAWG.96.csv')"
   ]
  },
  {
   "cell_type": "code",
   "execution_count": 9,
   "metadata": {
    "ExecuteTime": {
     "end_time": "2022-02-22T08:41:08.202207Z",
     "start_time": "2022-02-22T08:41:07.625434Z"
    }
   },
   "outputs": [
    {
     "name": "stdout",
     "output_type": "stream",
     "text": [
      "(96, 9693)\n"
     ]
    }
   ],
   "source": [
    "dataset_WES_Other_act = pd.read_csv('./project_data/catalogs/WES/WES_Other.96.csv')\n",
    "print(dataset_WES_Other_act.shape)"
   ]
  },
  {
   "cell_type": "code",
   "execution_count": 10,
   "metadata": {
    "ExecuteTime": {
     "end_time": "2022-02-22T08:41:08.804290Z",
     "start_time": "2022-02-22T08:41:08.203988Z"
    }
   },
   "outputs": [
    {
     "name": "stdout",
     "output_type": "stream",
     "text": [
      "(96, 9495)\n"
     ]
    }
   ],
   "source": [
    "dataset_WES_TCGA_act = pd.read_csv('./project_data/catalogs/WES/WES_TCGA.96.csv')\n",
    "print(dataset_WES_TCGA_act.shape)"
   ]
  },
  {
   "cell_type": "code",
   "execution_count": 11,
   "metadata": {
    "ExecuteTime": {
     "end_time": "2022-02-22T08:41:08.845259Z",
     "start_time": "2022-02-22T08:41:08.806071Z"
    }
   },
   "outputs": [],
   "source": [
    "### Aggregate mutation type and trinucleotides to one column\n",
    "PCAWG_wgs_mut['tri_mut'] = PCAWG_wgs_mut[['Mutation type', 'Trinucleotide']].agg('_'.join, axis=1)\n",
    "# \n",
    "nonPCAWG_wgs_mut['tri_mut'] = nonPCAWG_wgs_mut[['Mutation type', 'Trinucleotide']].agg('_'.join, axis=1)\n",
    "# Concatenate both mutation count data sets\n",
    "#total_wgs_mut = pd.concat([PCAWG_wgs_mut, nonPCAWG_wgs_mut], axis=1)\n",
    "#total_wgs_mut.shape\n",
    "#(96, 4651)\n",
    "### Get cancer types\n",
    "new_list = [re.sub(r'\\:.*', '', i) for i in PCAWG_wgs_mut.columns]\n",
    "# Transpose\n",
    "PCAWG_wgs_mut_T = PCAWG_wgs_mut.T\n",
    "# Rename columns\n",
    "PCAWG_wgs_mut_T.columns = PCAWG_wgs_mut[\"tri_mut\"]\n",
    "PCAWG_wgs_mut_T[\"label\"] = new_list[:]\n",
    "PCAWG_wgs_mut_T = PCAWG_wgs_mut_T.iloc[2:,:] # we don't need to first 2 rows"
   ]
  },
  {
   "cell_type": "code",
   "execution_count": 12,
   "metadata": {
    "ExecuteTime": {
     "end_time": "2022-02-22T08:41:08.881127Z",
     "start_time": "2022-02-22T08:41:08.846548Z"
    }
   },
   "outputs": [
    {
     "data": {
      "text/html": [
       "<div>\n",
       "<style scoped>\n",
       "    .dataframe tbody tr th:only-of-type {\n",
       "        vertical-align: middle;\n",
       "    }\n",
       "\n",
       "    .dataframe tbody tr th {\n",
       "        vertical-align: top;\n",
       "    }\n",
       "\n",
       "    .dataframe thead th {\n",
       "        text-align: right;\n",
       "    }\n",
       "</style>\n",
       "<table border=\"1\" class=\"dataframe\">\n",
       "  <thead>\n",
       "    <tr style=\"text-align: right;\">\n",
       "      <th>tri_mut</th>\n",
       "      <th>C&gt;A_ACA</th>\n",
       "      <th>C&gt;A_ACC</th>\n",
       "      <th>C&gt;A_ACG</th>\n",
       "      <th>C&gt;A_ACT</th>\n",
       "      <th>C&gt;A_CCA</th>\n",
       "      <th>C&gt;A_CCC</th>\n",
       "      <th>C&gt;A_CCG</th>\n",
       "      <th>C&gt;A_CCT</th>\n",
       "      <th>C&gt;A_GCA</th>\n",
       "      <th>C&gt;A_GCC</th>\n",
       "      <th>...</th>\n",
       "      <th>T&gt;G_CTT</th>\n",
       "      <th>T&gt;G_GTA</th>\n",
       "      <th>T&gt;G_GTC</th>\n",
       "      <th>T&gt;G_GTG</th>\n",
       "      <th>T&gt;G_GTT</th>\n",
       "      <th>T&gt;G_TTA</th>\n",
       "      <th>T&gt;G_TTC</th>\n",
       "      <th>T&gt;G_TTG</th>\n",
       "      <th>T&gt;G_TTT</th>\n",
       "      <th>label</th>\n",
       "    </tr>\n",
       "  </thead>\n",
       "  <tbody>\n",
       "    <tr>\n",
       "      <th>Biliary-AdenoCA::SP117655</th>\n",
       "      <td>269</td>\n",
       "      <td>148</td>\n",
       "      <td>25</td>\n",
       "      <td>154</td>\n",
       "      <td>215</td>\n",
       "      <td>148</td>\n",
       "      <td>27</td>\n",
       "      <td>180</td>\n",
       "      <td>165</td>\n",
       "      <td>76</td>\n",
       "      <td>...</td>\n",
       "      <td>268</td>\n",
       "      <td>19</td>\n",
       "      <td>17</td>\n",
       "      <td>43</td>\n",
       "      <td>89</td>\n",
       "      <td>83</td>\n",
       "      <td>48</td>\n",
       "      <td>63</td>\n",
       "      <td>197</td>\n",
       "      <td>Biliary-AdenoCA</td>\n",
       "    </tr>\n",
       "    <tr>\n",
       "      <th>Biliary-AdenoCA::SP117556</th>\n",
       "      <td>114</td>\n",
       "      <td>56</td>\n",
       "      <td>13</td>\n",
       "      <td>70</td>\n",
       "      <td>63</td>\n",
       "      <td>49</td>\n",
       "      <td>7</td>\n",
       "      <td>69</td>\n",
       "      <td>81</td>\n",
       "      <td>37</td>\n",
       "      <td>...</td>\n",
       "      <td>53</td>\n",
       "      <td>8</td>\n",
       "      <td>5</td>\n",
       "      <td>20</td>\n",
       "      <td>15</td>\n",
       "      <td>26</td>\n",
       "      <td>10</td>\n",
       "      <td>31</td>\n",
       "      <td>64</td>\n",
       "      <td>Biliary-AdenoCA</td>\n",
       "    </tr>\n",
       "    <tr>\n",
       "      <th>Biliary-AdenoCA::SP117627</th>\n",
       "      <td>105</td>\n",
       "      <td>71</td>\n",
       "      <td>13</td>\n",
       "      <td>73</td>\n",
       "      <td>71</td>\n",
       "      <td>55</td>\n",
       "      <td>8</td>\n",
       "      <td>61</td>\n",
       "      <td>61</td>\n",
       "      <td>50</td>\n",
       "      <td>...</td>\n",
       "      <td>44</td>\n",
       "      <td>7</td>\n",
       "      <td>6</td>\n",
       "      <td>14</td>\n",
       "      <td>14</td>\n",
       "      <td>16</td>\n",
       "      <td>8</td>\n",
       "      <td>15</td>\n",
       "      <td>52</td>\n",
       "      <td>Biliary-AdenoCA</td>\n",
       "    </tr>\n",
       "    <tr>\n",
       "      <th>Biliary-AdenoCA::SP117775</th>\n",
       "      <td>217</td>\n",
       "      <td>123</td>\n",
       "      <td>29</td>\n",
       "      <td>126</td>\n",
       "      <td>129</td>\n",
       "      <td>82</td>\n",
       "      <td>26</td>\n",
       "      <td>143</td>\n",
       "      <td>162</td>\n",
       "      <td>84</td>\n",
       "      <td>...</td>\n",
       "      <td>132</td>\n",
       "      <td>21</td>\n",
       "      <td>7</td>\n",
       "      <td>28</td>\n",
       "      <td>34</td>\n",
       "      <td>38</td>\n",
       "      <td>30</td>\n",
       "      <td>53</td>\n",
       "      <td>122</td>\n",
       "      <td>Biliary-AdenoCA</td>\n",
       "    </tr>\n",
       "    <tr>\n",
       "      <th>Biliary-AdenoCA::SP117332</th>\n",
       "      <td>52</td>\n",
       "      <td>36</td>\n",
       "      <td>8</td>\n",
       "      <td>31</td>\n",
       "      <td>30</td>\n",
       "      <td>22</td>\n",
       "      <td>10</td>\n",
       "      <td>38</td>\n",
       "      <td>21</td>\n",
       "      <td>25</td>\n",
       "      <td>...</td>\n",
       "      <td>18</td>\n",
       "      <td>2</td>\n",
       "      <td>4</td>\n",
       "      <td>7</td>\n",
       "      <td>7</td>\n",
       "      <td>15</td>\n",
       "      <td>8</td>\n",
       "      <td>16</td>\n",
       "      <td>38</td>\n",
       "      <td>Biliary-AdenoCA</td>\n",
       "    </tr>\n",
       "    <tr>\n",
       "      <th>...</th>\n",
       "      <td>...</td>\n",
       "      <td>...</td>\n",
       "      <td>...</td>\n",
       "      <td>...</td>\n",
       "      <td>...</td>\n",
       "      <td>...</td>\n",
       "      <td>...</td>\n",
       "      <td>...</td>\n",
       "      <td>...</td>\n",
       "      <td>...</td>\n",
       "      <td>...</td>\n",
       "      <td>...</td>\n",
       "      <td>...</td>\n",
       "      <td>...</td>\n",
       "      <td>...</td>\n",
       "      <td>...</td>\n",
       "      <td>...</td>\n",
       "      <td>...</td>\n",
       "      <td>...</td>\n",
       "      <td>...</td>\n",
       "      <td>...</td>\n",
       "    </tr>\n",
       "    <tr>\n",
       "      <th>Uterus-AdenoCA::SP91265</th>\n",
       "      <td>404</td>\n",
       "      <td>255</td>\n",
       "      <td>52</td>\n",
       "      <td>281</td>\n",
       "      <td>339</td>\n",
       "      <td>170</td>\n",
       "      <td>52</td>\n",
       "      <td>261</td>\n",
       "      <td>264</td>\n",
       "      <td>137</td>\n",
       "      <td>...</td>\n",
       "      <td>230</td>\n",
       "      <td>57</td>\n",
       "      <td>32</td>\n",
       "      <td>97</td>\n",
       "      <td>118</td>\n",
       "      <td>83</td>\n",
       "      <td>49</td>\n",
       "      <td>108</td>\n",
       "      <td>223</td>\n",
       "      <td>Uterus-AdenoCA</td>\n",
       "    </tr>\n",
       "    <tr>\n",
       "      <th>Uterus-AdenoCA::SP89909</th>\n",
       "      <td>97</td>\n",
       "      <td>78</td>\n",
       "      <td>14</td>\n",
       "      <td>80</td>\n",
       "      <td>204</td>\n",
       "      <td>390</td>\n",
       "      <td>92</td>\n",
       "      <td>876</td>\n",
       "      <td>77</td>\n",
       "      <td>62</td>\n",
       "      <td>...</td>\n",
       "      <td>76</td>\n",
       "      <td>10</td>\n",
       "      <td>7</td>\n",
       "      <td>10</td>\n",
       "      <td>24</td>\n",
       "      <td>19</td>\n",
       "      <td>17</td>\n",
       "      <td>34</td>\n",
       "      <td>106</td>\n",
       "      <td>Uterus-AdenoCA</td>\n",
       "    </tr>\n",
       "    <tr>\n",
       "      <th>Uterus-AdenoCA::SP90629</th>\n",
       "      <td>250</td>\n",
       "      <td>188</td>\n",
       "      <td>49</td>\n",
       "      <td>202</td>\n",
       "      <td>194</td>\n",
       "      <td>124</td>\n",
       "      <td>28</td>\n",
       "      <td>150</td>\n",
       "      <td>142</td>\n",
       "      <td>95</td>\n",
       "      <td>...</td>\n",
       "      <td>197</td>\n",
       "      <td>42</td>\n",
       "      <td>35</td>\n",
       "      <td>72</td>\n",
       "      <td>113</td>\n",
       "      <td>108</td>\n",
       "      <td>92</td>\n",
       "      <td>103</td>\n",
       "      <td>270</td>\n",
       "      <td>Uterus-AdenoCA</td>\n",
       "    </tr>\n",
       "    <tr>\n",
       "      <th>Uterus-AdenoCA::SP95550</th>\n",
       "      <td>170</td>\n",
       "      <td>137</td>\n",
       "      <td>32</td>\n",
       "      <td>116</td>\n",
       "      <td>127</td>\n",
       "      <td>100</td>\n",
       "      <td>17</td>\n",
       "      <td>120</td>\n",
       "      <td>108</td>\n",
       "      <td>72</td>\n",
       "      <td>...</td>\n",
       "      <td>62</td>\n",
       "      <td>25</td>\n",
       "      <td>13</td>\n",
       "      <td>61</td>\n",
       "      <td>32</td>\n",
       "      <td>29</td>\n",
       "      <td>33</td>\n",
       "      <td>42</td>\n",
       "      <td>89</td>\n",
       "      <td>Uterus-AdenoCA</td>\n",
       "    </tr>\n",
       "    <tr>\n",
       "      <th>tri_mut</th>\n",
       "      <td>C&gt;A_ACA</td>\n",
       "      <td>C&gt;A_ACC</td>\n",
       "      <td>C&gt;A_ACG</td>\n",
       "      <td>C&gt;A_ACT</td>\n",
       "      <td>C&gt;A_CCA</td>\n",
       "      <td>C&gt;A_CCC</td>\n",
       "      <td>C&gt;A_CCG</td>\n",
       "      <td>C&gt;A_CCT</td>\n",
       "      <td>C&gt;A_GCA</td>\n",
       "      <td>C&gt;A_GCC</td>\n",
       "      <td>...</td>\n",
       "      <td>T&gt;G_CTT</td>\n",
       "      <td>T&gt;G_GTA</td>\n",
       "      <td>T&gt;G_GTC</td>\n",
       "      <td>T&gt;G_GTG</td>\n",
       "      <td>T&gt;G_GTT</td>\n",
       "      <td>T&gt;G_TTA</td>\n",
       "      <td>T&gt;G_TTC</td>\n",
       "      <td>T&gt;G_TTG</td>\n",
       "      <td>T&gt;G_TTT</td>\n",
       "      <td>tri_mut</td>\n",
       "    </tr>\n",
       "  </tbody>\n",
       "</table>\n",
       "<p>2781 rows × 97 columns</p>\n",
       "</div>"
      ],
      "text/plain": [
       "tri_mut                    C>A_ACA  C>A_ACC  C>A_ACG  C>A_ACT  C>A_CCA  \\\n",
       "Biliary-AdenoCA::SP117655      269      148       25      154      215   \n",
       "Biliary-AdenoCA::SP117556      114       56       13       70       63   \n",
       "Biliary-AdenoCA::SP117627      105       71       13       73       71   \n",
       "Biliary-AdenoCA::SP117775      217      123       29      126      129   \n",
       "Biliary-AdenoCA::SP117332       52       36        8       31       30   \n",
       "...                            ...      ...      ...      ...      ...   \n",
       "Uterus-AdenoCA::SP91265        404      255       52      281      339   \n",
       "Uterus-AdenoCA::SP89909         97       78       14       80      204   \n",
       "Uterus-AdenoCA::SP90629        250      188       49      202      194   \n",
       "Uterus-AdenoCA::SP95550        170      137       32      116      127   \n",
       "tri_mut                    C>A_ACA  C>A_ACC  C>A_ACG  C>A_ACT  C>A_CCA   \n",
       "\n",
       "tri_mut                    C>A_CCC  C>A_CCG  C>A_CCT  C>A_GCA  C>A_GCC  ...  \\\n",
       "Biliary-AdenoCA::SP117655      148       27      180      165       76  ...   \n",
       "Biliary-AdenoCA::SP117556       49        7       69       81       37  ...   \n",
       "Biliary-AdenoCA::SP117627       55        8       61       61       50  ...   \n",
       "Biliary-AdenoCA::SP117775       82       26      143      162       84  ...   \n",
       "Biliary-AdenoCA::SP117332       22       10       38       21       25  ...   \n",
       "...                            ...      ...      ...      ...      ...  ...   \n",
       "Uterus-AdenoCA::SP91265        170       52      261      264      137  ...   \n",
       "Uterus-AdenoCA::SP89909        390       92      876       77       62  ...   \n",
       "Uterus-AdenoCA::SP90629        124       28      150      142       95  ...   \n",
       "Uterus-AdenoCA::SP95550        100       17      120      108       72  ...   \n",
       "tri_mut                    C>A_CCC  C>A_CCG  C>A_CCT  C>A_GCA  C>A_GCC  ...   \n",
       "\n",
       "tri_mut                    T>G_CTT  T>G_GTA  T>G_GTC  T>G_GTG  T>G_GTT  \\\n",
       "Biliary-AdenoCA::SP117655      268       19       17       43       89   \n",
       "Biliary-AdenoCA::SP117556       53        8        5       20       15   \n",
       "Biliary-AdenoCA::SP117627       44        7        6       14       14   \n",
       "Biliary-AdenoCA::SP117775      132       21        7       28       34   \n",
       "Biliary-AdenoCA::SP117332       18        2        4        7        7   \n",
       "...                            ...      ...      ...      ...      ...   \n",
       "Uterus-AdenoCA::SP91265        230       57       32       97      118   \n",
       "Uterus-AdenoCA::SP89909         76       10        7       10       24   \n",
       "Uterus-AdenoCA::SP90629        197       42       35       72      113   \n",
       "Uterus-AdenoCA::SP95550         62       25       13       61       32   \n",
       "tri_mut                    T>G_CTT  T>G_GTA  T>G_GTC  T>G_GTG  T>G_GTT   \n",
       "\n",
       "tri_mut                    T>G_TTA  T>G_TTC  T>G_TTG  T>G_TTT            label  \n",
       "Biliary-AdenoCA::SP117655       83       48       63      197  Biliary-AdenoCA  \n",
       "Biliary-AdenoCA::SP117556       26       10       31       64  Biliary-AdenoCA  \n",
       "Biliary-AdenoCA::SP117627       16        8       15       52  Biliary-AdenoCA  \n",
       "Biliary-AdenoCA::SP117775       38       30       53      122  Biliary-AdenoCA  \n",
       "Biliary-AdenoCA::SP117332       15        8       16       38  Biliary-AdenoCA  \n",
       "...                            ...      ...      ...      ...              ...  \n",
       "Uterus-AdenoCA::SP91265         83       49      108      223   Uterus-AdenoCA  \n",
       "Uterus-AdenoCA::SP89909         19       17       34      106   Uterus-AdenoCA  \n",
       "Uterus-AdenoCA::SP90629        108       92      103      270   Uterus-AdenoCA  \n",
       "Uterus-AdenoCA::SP95550         29       33       42       89   Uterus-AdenoCA  \n",
       "tri_mut                    T>G_TTA  T>G_TTC  T>G_TTG  T>G_TTT          tri_mut  \n",
       "\n",
       "[2781 rows x 97 columns]"
      ]
     },
     "execution_count": 12,
     "metadata": {},
     "output_type": "execute_result"
    }
   ],
   "source": [
    "PCAWG_wgs_mut_T"
   ]
  },
  {
   "cell_type": "code",
   "execution_count": 13,
   "metadata": {
    "ExecuteTime": {
     "end_time": "2022-02-22T08:41:08.910056Z",
     "start_time": "2022-02-22T08:41:08.882568Z"
    }
   },
   "outputs": [
    {
     "data": {
      "text/html": [
       "<div>\n",
       "<style scoped>\n",
       "    .dataframe tbody tr th:only-of-type {\n",
       "        vertical-align: middle;\n",
       "    }\n",
       "\n",
       "    .dataframe tbody tr th {\n",
       "        vertical-align: top;\n",
       "    }\n",
       "\n",
       "    .dataframe thead th {\n",
       "        text-align: right;\n",
       "    }\n",
       "</style>\n",
       "<table border=\"1\" class=\"dataframe\">\n",
       "  <thead>\n",
       "    <tr style=\"text-align: right;\">\n",
       "      <th>tri_mut</th>\n",
       "      <th>C&gt;A_ACA</th>\n",
       "      <th>C&gt;A_ACC</th>\n",
       "      <th>C&gt;A_ACG</th>\n",
       "      <th>C&gt;A_ACT</th>\n",
       "      <th>C&gt;A_CCA</th>\n",
       "      <th>C&gt;A_CCC</th>\n",
       "      <th>C&gt;A_CCG</th>\n",
       "      <th>C&gt;A_CCT</th>\n",
       "      <th>C&gt;A_GCA</th>\n",
       "      <th>C&gt;A_GCC</th>\n",
       "      <th>...</th>\n",
       "      <th>T&gt;G_CTT</th>\n",
       "      <th>T&gt;G_GTA</th>\n",
       "      <th>T&gt;G_GTC</th>\n",
       "      <th>T&gt;G_GTG</th>\n",
       "      <th>T&gt;G_GTT</th>\n",
       "      <th>T&gt;G_TTA</th>\n",
       "      <th>T&gt;G_TTC</th>\n",
       "      <th>T&gt;G_TTG</th>\n",
       "      <th>T&gt;G_TTT</th>\n",
       "      <th>label</th>\n",
       "    </tr>\n",
       "  </thead>\n",
       "  <tbody>\n",
       "    <tr>\n",
       "      <th>Biliary-AdenoCA::SP117655</th>\n",
       "      <td>269</td>\n",
       "      <td>148</td>\n",
       "      <td>25</td>\n",
       "      <td>154</td>\n",
       "      <td>215</td>\n",
       "      <td>148</td>\n",
       "      <td>27</td>\n",
       "      <td>180</td>\n",
       "      <td>165</td>\n",
       "      <td>76</td>\n",
       "      <td>...</td>\n",
       "      <td>268</td>\n",
       "      <td>19</td>\n",
       "      <td>17</td>\n",
       "      <td>43</td>\n",
       "      <td>89</td>\n",
       "      <td>83</td>\n",
       "      <td>48</td>\n",
       "      <td>63</td>\n",
       "      <td>197</td>\n",
       "      <td>Biliary-AdenoCA</td>\n",
       "    </tr>\n",
       "    <tr>\n",
       "      <th>Biliary-AdenoCA::SP117556</th>\n",
       "      <td>114</td>\n",
       "      <td>56</td>\n",
       "      <td>13</td>\n",
       "      <td>70</td>\n",
       "      <td>63</td>\n",
       "      <td>49</td>\n",
       "      <td>7</td>\n",
       "      <td>69</td>\n",
       "      <td>81</td>\n",
       "      <td>37</td>\n",
       "      <td>...</td>\n",
       "      <td>53</td>\n",
       "      <td>8</td>\n",
       "      <td>5</td>\n",
       "      <td>20</td>\n",
       "      <td>15</td>\n",
       "      <td>26</td>\n",
       "      <td>10</td>\n",
       "      <td>31</td>\n",
       "      <td>64</td>\n",
       "      <td>Biliary-AdenoCA</td>\n",
       "    </tr>\n",
       "    <tr>\n",
       "      <th>Biliary-AdenoCA::SP117627</th>\n",
       "      <td>105</td>\n",
       "      <td>71</td>\n",
       "      <td>13</td>\n",
       "      <td>73</td>\n",
       "      <td>71</td>\n",
       "      <td>55</td>\n",
       "      <td>8</td>\n",
       "      <td>61</td>\n",
       "      <td>61</td>\n",
       "      <td>50</td>\n",
       "      <td>...</td>\n",
       "      <td>44</td>\n",
       "      <td>7</td>\n",
       "      <td>6</td>\n",
       "      <td>14</td>\n",
       "      <td>14</td>\n",
       "      <td>16</td>\n",
       "      <td>8</td>\n",
       "      <td>15</td>\n",
       "      <td>52</td>\n",
       "      <td>Biliary-AdenoCA</td>\n",
       "    </tr>\n",
       "    <tr>\n",
       "      <th>Biliary-AdenoCA::SP117775</th>\n",
       "      <td>217</td>\n",
       "      <td>123</td>\n",
       "      <td>29</td>\n",
       "      <td>126</td>\n",
       "      <td>129</td>\n",
       "      <td>82</td>\n",
       "      <td>26</td>\n",
       "      <td>143</td>\n",
       "      <td>162</td>\n",
       "      <td>84</td>\n",
       "      <td>...</td>\n",
       "      <td>132</td>\n",
       "      <td>21</td>\n",
       "      <td>7</td>\n",
       "      <td>28</td>\n",
       "      <td>34</td>\n",
       "      <td>38</td>\n",
       "      <td>30</td>\n",
       "      <td>53</td>\n",
       "      <td>122</td>\n",
       "      <td>Biliary-AdenoCA</td>\n",
       "    </tr>\n",
       "    <tr>\n",
       "      <th>Biliary-AdenoCA::SP117332</th>\n",
       "      <td>52</td>\n",
       "      <td>36</td>\n",
       "      <td>8</td>\n",
       "      <td>31</td>\n",
       "      <td>30</td>\n",
       "      <td>22</td>\n",
       "      <td>10</td>\n",
       "      <td>38</td>\n",
       "      <td>21</td>\n",
       "      <td>25</td>\n",
       "      <td>...</td>\n",
       "      <td>18</td>\n",
       "      <td>2</td>\n",
       "      <td>4</td>\n",
       "      <td>7</td>\n",
       "      <td>7</td>\n",
       "      <td>15</td>\n",
       "      <td>8</td>\n",
       "      <td>16</td>\n",
       "      <td>38</td>\n",
       "      <td>Biliary-AdenoCA</td>\n",
       "    </tr>\n",
       "    <tr>\n",
       "      <th>...</th>\n",
       "      <td>...</td>\n",
       "      <td>...</td>\n",
       "      <td>...</td>\n",
       "      <td>...</td>\n",
       "      <td>...</td>\n",
       "      <td>...</td>\n",
       "      <td>...</td>\n",
       "      <td>...</td>\n",
       "      <td>...</td>\n",
       "      <td>...</td>\n",
       "      <td>...</td>\n",
       "      <td>...</td>\n",
       "      <td>...</td>\n",
       "      <td>...</td>\n",
       "      <td>...</td>\n",
       "      <td>...</td>\n",
       "      <td>...</td>\n",
       "      <td>...</td>\n",
       "      <td>...</td>\n",
       "      <td>...</td>\n",
       "      <td>...</td>\n",
       "    </tr>\n",
       "    <tr>\n",
       "      <th>Uterus-AdenoCA::SP91265</th>\n",
       "      <td>404</td>\n",
       "      <td>255</td>\n",
       "      <td>52</td>\n",
       "      <td>281</td>\n",
       "      <td>339</td>\n",
       "      <td>170</td>\n",
       "      <td>52</td>\n",
       "      <td>261</td>\n",
       "      <td>264</td>\n",
       "      <td>137</td>\n",
       "      <td>...</td>\n",
       "      <td>230</td>\n",
       "      <td>57</td>\n",
       "      <td>32</td>\n",
       "      <td>97</td>\n",
       "      <td>118</td>\n",
       "      <td>83</td>\n",
       "      <td>49</td>\n",
       "      <td>108</td>\n",
       "      <td>223</td>\n",
       "      <td>Uterus-AdenoCA</td>\n",
       "    </tr>\n",
       "    <tr>\n",
       "      <th>Uterus-AdenoCA::SP89909</th>\n",
       "      <td>97</td>\n",
       "      <td>78</td>\n",
       "      <td>14</td>\n",
       "      <td>80</td>\n",
       "      <td>204</td>\n",
       "      <td>390</td>\n",
       "      <td>92</td>\n",
       "      <td>876</td>\n",
       "      <td>77</td>\n",
       "      <td>62</td>\n",
       "      <td>...</td>\n",
       "      <td>76</td>\n",
       "      <td>10</td>\n",
       "      <td>7</td>\n",
       "      <td>10</td>\n",
       "      <td>24</td>\n",
       "      <td>19</td>\n",
       "      <td>17</td>\n",
       "      <td>34</td>\n",
       "      <td>106</td>\n",
       "      <td>Uterus-AdenoCA</td>\n",
       "    </tr>\n",
       "    <tr>\n",
       "      <th>Uterus-AdenoCA::SP90629</th>\n",
       "      <td>250</td>\n",
       "      <td>188</td>\n",
       "      <td>49</td>\n",
       "      <td>202</td>\n",
       "      <td>194</td>\n",
       "      <td>124</td>\n",
       "      <td>28</td>\n",
       "      <td>150</td>\n",
       "      <td>142</td>\n",
       "      <td>95</td>\n",
       "      <td>...</td>\n",
       "      <td>197</td>\n",
       "      <td>42</td>\n",
       "      <td>35</td>\n",
       "      <td>72</td>\n",
       "      <td>113</td>\n",
       "      <td>108</td>\n",
       "      <td>92</td>\n",
       "      <td>103</td>\n",
       "      <td>270</td>\n",
       "      <td>Uterus-AdenoCA</td>\n",
       "    </tr>\n",
       "    <tr>\n",
       "      <th>Uterus-AdenoCA::SP95550</th>\n",
       "      <td>170</td>\n",
       "      <td>137</td>\n",
       "      <td>32</td>\n",
       "      <td>116</td>\n",
       "      <td>127</td>\n",
       "      <td>100</td>\n",
       "      <td>17</td>\n",
       "      <td>120</td>\n",
       "      <td>108</td>\n",
       "      <td>72</td>\n",
       "      <td>...</td>\n",
       "      <td>62</td>\n",
       "      <td>25</td>\n",
       "      <td>13</td>\n",
       "      <td>61</td>\n",
       "      <td>32</td>\n",
       "      <td>29</td>\n",
       "      <td>33</td>\n",
       "      <td>42</td>\n",
       "      <td>89</td>\n",
       "      <td>Uterus-AdenoCA</td>\n",
       "    </tr>\n",
       "    <tr>\n",
       "      <th>tri_mut</th>\n",
       "      <td>C&gt;A_ACA</td>\n",
       "      <td>C&gt;A_ACC</td>\n",
       "      <td>C&gt;A_ACG</td>\n",
       "      <td>C&gt;A_ACT</td>\n",
       "      <td>C&gt;A_CCA</td>\n",
       "      <td>C&gt;A_CCC</td>\n",
       "      <td>C&gt;A_CCG</td>\n",
       "      <td>C&gt;A_CCT</td>\n",
       "      <td>C&gt;A_GCA</td>\n",
       "      <td>C&gt;A_GCC</td>\n",
       "      <td>...</td>\n",
       "      <td>T&gt;G_CTT</td>\n",
       "      <td>T&gt;G_GTA</td>\n",
       "      <td>T&gt;G_GTC</td>\n",
       "      <td>T&gt;G_GTG</td>\n",
       "      <td>T&gt;G_GTT</td>\n",
       "      <td>T&gt;G_TTA</td>\n",
       "      <td>T&gt;G_TTC</td>\n",
       "      <td>T&gt;G_TTG</td>\n",
       "      <td>T&gt;G_TTT</td>\n",
       "      <td>tri_mut</td>\n",
       "    </tr>\n",
       "  </tbody>\n",
       "</table>\n",
       "<p>2781 rows × 97 columns</p>\n",
       "</div>"
      ],
      "text/plain": [
       "tri_mut                    C>A_ACA  C>A_ACC  C>A_ACG  C>A_ACT  C>A_CCA  \\\n",
       "Biliary-AdenoCA::SP117655      269      148       25      154      215   \n",
       "Biliary-AdenoCA::SP117556      114       56       13       70       63   \n",
       "Biliary-AdenoCA::SP117627      105       71       13       73       71   \n",
       "Biliary-AdenoCA::SP117775      217      123       29      126      129   \n",
       "Biliary-AdenoCA::SP117332       52       36        8       31       30   \n",
       "...                            ...      ...      ...      ...      ...   \n",
       "Uterus-AdenoCA::SP91265        404      255       52      281      339   \n",
       "Uterus-AdenoCA::SP89909         97       78       14       80      204   \n",
       "Uterus-AdenoCA::SP90629        250      188       49      202      194   \n",
       "Uterus-AdenoCA::SP95550        170      137       32      116      127   \n",
       "tri_mut                    C>A_ACA  C>A_ACC  C>A_ACG  C>A_ACT  C>A_CCA   \n",
       "\n",
       "tri_mut                    C>A_CCC  C>A_CCG  C>A_CCT  C>A_GCA  C>A_GCC  ...  \\\n",
       "Biliary-AdenoCA::SP117655      148       27      180      165       76  ...   \n",
       "Biliary-AdenoCA::SP117556       49        7       69       81       37  ...   \n",
       "Biliary-AdenoCA::SP117627       55        8       61       61       50  ...   \n",
       "Biliary-AdenoCA::SP117775       82       26      143      162       84  ...   \n",
       "Biliary-AdenoCA::SP117332       22       10       38       21       25  ...   \n",
       "...                            ...      ...      ...      ...      ...  ...   \n",
       "Uterus-AdenoCA::SP91265        170       52      261      264      137  ...   \n",
       "Uterus-AdenoCA::SP89909        390       92      876       77       62  ...   \n",
       "Uterus-AdenoCA::SP90629        124       28      150      142       95  ...   \n",
       "Uterus-AdenoCA::SP95550        100       17      120      108       72  ...   \n",
       "tri_mut                    C>A_CCC  C>A_CCG  C>A_CCT  C>A_GCA  C>A_GCC  ...   \n",
       "\n",
       "tri_mut                    T>G_CTT  T>G_GTA  T>G_GTC  T>G_GTG  T>G_GTT  \\\n",
       "Biliary-AdenoCA::SP117655      268       19       17       43       89   \n",
       "Biliary-AdenoCA::SP117556       53        8        5       20       15   \n",
       "Biliary-AdenoCA::SP117627       44        7        6       14       14   \n",
       "Biliary-AdenoCA::SP117775      132       21        7       28       34   \n",
       "Biliary-AdenoCA::SP117332       18        2        4        7        7   \n",
       "...                            ...      ...      ...      ...      ...   \n",
       "Uterus-AdenoCA::SP91265        230       57       32       97      118   \n",
       "Uterus-AdenoCA::SP89909         76       10        7       10       24   \n",
       "Uterus-AdenoCA::SP90629        197       42       35       72      113   \n",
       "Uterus-AdenoCA::SP95550         62       25       13       61       32   \n",
       "tri_mut                    T>G_CTT  T>G_GTA  T>G_GTC  T>G_GTG  T>G_GTT   \n",
       "\n",
       "tri_mut                    T>G_TTA  T>G_TTC  T>G_TTG  T>G_TTT            label  \n",
       "Biliary-AdenoCA::SP117655       83       48       63      197  Biliary-AdenoCA  \n",
       "Biliary-AdenoCA::SP117556       26       10       31       64  Biliary-AdenoCA  \n",
       "Biliary-AdenoCA::SP117627       16        8       15       52  Biliary-AdenoCA  \n",
       "Biliary-AdenoCA::SP117775       38       30       53      122  Biliary-AdenoCA  \n",
       "Biliary-AdenoCA::SP117332       15        8       16       38  Biliary-AdenoCA  \n",
       "...                            ...      ...      ...      ...              ...  \n",
       "Uterus-AdenoCA::SP91265         83       49      108      223   Uterus-AdenoCA  \n",
       "Uterus-AdenoCA::SP89909         19       17       34      106   Uterus-AdenoCA  \n",
       "Uterus-AdenoCA::SP90629        108       92      103      270   Uterus-AdenoCA  \n",
       "Uterus-AdenoCA::SP95550         29       33       42       89   Uterus-AdenoCA  \n",
       "tri_mut                    T>G_TTA  T>G_TTC  T>G_TTG  T>G_TTT          tri_mut  \n",
       "\n",
       "[2781 rows x 97 columns]"
      ]
     },
     "execution_count": 13,
     "metadata": {},
     "output_type": "execute_result"
    }
   ],
   "source": [
    "PCAWG_wgs_mut_T"
   ]
  },
  {
   "cell_type": "code",
   "execution_count": 14,
   "metadata": {
    "ExecuteTime": {
     "end_time": "2022-02-22T08:41:08.958282Z",
     "start_time": "2022-02-22T08:41:08.911684Z"
    },
    "scrolled": true
   },
   "outputs": [
    {
     "data": {
      "text/html": [
       "<div>\n",
       "<style scoped>\n",
       "    .dataframe tbody tr th:only-of-type {\n",
       "        vertical-align: middle;\n",
       "    }\n",
       "\n",
       "    .dataframe tbody tr th {\n",
       "        vertical-align: top;\n",
       "    }\n",
       "\n",
       "    .dataframe thead th {\n",
       "        text-align: right;\n",
       "    }\n",
       "</style>\n",
       "<table border=\"1\" class=\"dataframe\">\n",
       "  <thead>\n",
       "    <tr style=\"text-align: right;\">\n",
       "      <th>tri_mut</th>\n",
       "      <th>C&gt;A_ACA</th>\n",
       "      <th>C&gt;A_ACC</th>\n",
       "      <th>C&gt;A_ACG</th>\n",
       "      <th>C&gt;A_ACT</th>\n",
       "      <th>C&gt;A_CCA</th>\n",
       "      <th>C&gt;A_CCC</th>\n",
       "      <th>C&gt;A_CCG</th>\n",
       "      <th>C&gt;A_CCT</th>\n",
       "      <th>C&gt;A_GCA</th>\n",
       "      <th>C&gt;A_GCC</th>\n",
       "      <th>...</th>\n",
       "      <th>T&gt;G_CTG</th>\n",
       "      <th>T&gt;G_CTT</th>\n",
       "      <th>T&gt;G_GTA</th>\n",
       "      <th>T&gt;G_GTC</th>\n",
       "      <th>T&gt;G_GTG</th>\n",
       "      <th>T&gt;G_GTT</th>\n",
       "      <th>T&gt;G_TTA</th>\n",
       "      <th>T&gt;G_TTC</th>\n",
       "      <th>T&gt;G_TTG</th>\n",
       "      <th>T&gt;G_TTT</th>\n",
       "    </tr>\n",
       "  </thead>\n",
       "  <tbody>\n",
       "    <tr>\n",
       "      <th>Biliary-AdenoCA::SP117655</th>\n",
       "      <td>269</td>\n",
       "      <td>148</td>\n",
       "      <td>25</td>\n",
       "      <td>154</td>\n",
       "      <td>215</td>\n",
       "      <td>148</td>\n",
       "      <td>27</td>\n",
       "      <td>180</td>\n",
       "      <td>165</td>\n",
       "      <td>76</td>\n",
       "      <td>...</td>\n",
       "      <td>49</td>\n",
       "      <td>268</td>\n",
       "      <td>19</td>\n",
       "      <td>17</td>\n",
       "      <td>43</td>\n",
       "      <td>89</td>\n",
       "      <td>83</td>\n",
       "      <td>48</td>\n",
       "      <td>63</td>\n",
       "      <td>197</td>\n",
       "    </tr>\n",
       "    <tr>\n",
       "      <th>Biliary-AdenoCA::SP117556</th>\n",
       "      <td>114</td>\n",
       "      <td>56</td>\n",
       "      <td>13</td>\n",
       "      <td>70</td>\n",
       "      <td>63</td>\n",
       "      <td>49</td>\n",
       "      <td>7</td>\n",
       "      <td>69</td>\n",
       "      <td>81</td>\n",
       "      <td>37</td>\n",
       "      <td>...</td>\n",
       "      <td>23</td>\n",
       "      <td>53</td>\n",
       "      <td>8</td>\n",
       "      <td>5</td>\n",
       "      <td>20</td>\n",
       "      <td>15</td>\n",
       "      <td>26</td>\n",
       "      <td>10</td>\n",
       "      <td>31</td>\n",
       "      <td>64</td>\n",
       "    </tr>\n",
       "    <tr>\n",
       "      <th>Biliary-AdenoCA::SP117627</th>\n",
       "      <td>105</td>\n",
       "      <td>71</td>\n",
       "      <td>13</td>\n",
       "      <td>73</td>\n",
       "      <td>71</td>\n",
       "      <td>55</td>\n",
       "      <td>8</td>\n",
       "      <td>61</td>\n",
       "      <td>61</td>\n",
       "      <td>50</td>\n",
       "      <td>...</td>\n",
       "      <td>8</td>\n",
       "      <td>44</td>\n",
       "      <td>7</td>\n",
       "      <td>6</td>\n",
       "      <td>14</td>\n",
       "      <td>14</td>\n",
       "      <td>16</td>\n",
       "      <td>8</td>\n",
       "      <td>15</td>\n",
       "      <td>52</td>\n",
       "    </tr>\n",
       "    <tr>\n",
       "      <th>Biliary-AdenoCA::SP117775</th>\n",
       "      <td>217</td>\n",
       "      <td>123</td>\n",
       "      <td>29</td>\n",
       "      <td>126</td>\n",
       "      <td>129</td>\n",
       "      <td>82</td>\n",
       "      <td>26</td>\n",
       "      <td>143</td>\n",
       "      <td>162</td>\n",
       "      <td>84</td>\n",
       "      <td>...</td>\n",
       "      <td>43</td>\n",
       "      <td>132</td>\n",
       "      <td>21</td>\n",
       "      <td>7</td>\n",
       "      <td>28</td>\n",
       "      <td>34</td>\n",
       "      <td>38</td>\n",
       "      <td>30</td>\n",
       "      <td>53</td>\n",
       "      <td>122</td>\n",
       "    </tr>\n",
       "    <tr>\n",
       "      <th>Biliary-AdenoCA::SP117332</th>\n",
       "      <td>52</td>\n",
       "      <td>36</td>\n",
       "      <td>8</td>\n",
       "      <td>31</td>\n",
       "      <td>30</td>\n",
       "      <td>22</td>\n",
       "      <td>10</td>\n",
       "      <td>38</td>\n",
       "      <td>21</td>\n",
       "      <td>25</td>\n",
       "      <td>...</td>\n",
       "      <td>8</td>\n",
       "      <td>18</td>\n",
       "      <td>2</td>\n",
       "      <td>4</td>\n",
       "      <td>7</td>\n",
       "      <td>7</td>\n",
       "      <td>15</td>\n",
       "      <td>8</td>\n",
       "      <td>16</td>\n",
       "      <td>38</td>\n",
       "    </tr>\n",
       "    <tr>\n",
       "      <th>...</th>\n",
       "      <td>...</td>\n",
       "      <td>...</td>\n",
       "      <td>...</td>\n",
       "      <td>...</td>\n",
       "      <td>...</td>\n",
       "      <td>...</td>\n",
       "      <td>...</td>\n",
       "      <td>...</td>\n",
       "      <td>...</td>\n",
       "      <td>...</td>\n",
       "      <td>...</td>\n",
       "      <td>...</td>\n",
       "      <td>...</td>\n",
       "      <td>...</td>\n",
       "      <td>...</td>\n",
       "      <td>...</td>\n",
       "      <td>...</td>\n",
       "      <td>...</td>\n",
       "      <td>...</td>\n",
       "      <td>...</td>\n",
       "      <td>...</td>\n",
       "    </tr>\n",
       "    <tr>\n",
       "      <th>Uterus-AdenoCA::SP92931</th>\n",
       "      <td>139</td>\n",
       "      <td>75</td>\n",
       "      <td>13</td>\n",
       "      <td>68</td>\n",
       "      <td>69</td>\n",
       "      <td>52</td>\n",
       "      <td>16</td>\n",
       "      <td>55</td>\n",
       "      <td>73</td>\n",
       "      <td>32</td>\n",
       "      <td>...</td>\n",
       "      <td>23</td>\n",
       "      <td>82</td>\n",
       "      <td>8</td>\n",
       "      <td>9</td>\n",
       "      <td>14</td>\n",
       "      <td>23</td>\n",
       "      <td>19</td>\n",
       "      <td>13</td>\n",
       "      <td>25</td>\n",
       "      <td>66</td>\n",
       "    </tr>\n",
       "    <tr>\n",
       "      <th>Uterus-AdenoCA::SP91265</th>\n",
       "      <td>404</td>\n",
       "      <td>255</td>\n",
       "      <td>52</td>\n",
       "      <td>281</td>\n",
       "      <td>339</td>\n",
       "      <td>170</td>\n",
       "      <td>52</td>\n",
       "      <td>261</td>\n",
       "      <td>264</td>\n",
       "      <td>137</td>\n",
       "      <td>...</td>\n",
       "      <td>88</td>\n",
       "      <td>230</td>\n",
       "      <td>57</td>\n",
       "      <td>32</td>\n",
       "      <td>97</td>\n",
       "      <td>118</td>\n",
       "      <td>83</td>\n",
       "      <td>49</td>\n",
       "      <td>108</td>\n",
       "      <td>223</td>\n",
       "    </tr>\n",
       "    <tr>\n",
       "      <th>Uterus-AdenoCA::SP89909</th>\n",
       "      <td>97</td>\n",
       "      <td>78</td>\n",
       "      <td>14</td>\n",
       "      <td>80</td>\n",
       "      <td>204</td>\n",
       "      <td>390</td>\n",
       "      <td>92</td>\n",
       "      <td>876</td>\n",
       "      <td>77</td>\n",
       "      <td>62</td>\n",
       "      <td>...</td>\n",
       "      <td>75</td>\n",
       "      <td>76</td>\n",
       "      <td>10</td>\n",
       "      <td>7</td>\n",
       "      <td>10</td>\n",
       "      <td>24</td>\n",
       "      <td>19</td>\n",
       "      <td>17</td>\n",
       "      <td>34</td>\n",
       "      <td>106</td>\n",
       "    </tr>\n",
       "    <tr>\n",
       "      <th>Uterus-AdenoCA::SP90629</th>\n",
       "      <td>250</td>\n",
       "      <td>188</td>\n",
       "      <td>49</td>\n",
       "      <td>202</td>\n",
       "      <td>194</td>\n",
       "      <td>124</td>\n",
       "      <td>28</td>\n",
       "      <td>150</td>\n",
       "      <td>142</td>\n",
       "      <td>95</td>\n",
       "      <td>...</td>\n",
       "      <td>87</td>\n",
       "      <td>197</td>\n",
       "      <td>42</td>\n",
       "      <td>35</td>\n",
       "      <td>72</td>\n",
       "      <td>113</td>\n",
       "      <td>108</td>\n",
       "      <td>92</td>\n",
       "      <td>103</td>\n",
       "      <td>270</td>\n",
       "    </tr>\n",
       "    <tr>\n",
       "      <th>Uterus-AdenoCA::SP95550</th>\n",
       "      <td>170</td>\n",
       "      <td>137</td>\n",
       "      <td>32</td>\n",
       "      <td>116</td>\n",
       "      <td>127</td>\n",
       "      <td>100</td>\n",
       "      <td>17</td>\n",
       "      <td>120</td>\n",
       "      <td>108</td>\n",
       "      <td>72</td>\n",
       "      <td>...</td>\n",
       "      <td>49</td>\n",
       "      <td>62</td>\n",
       "      <td>25</td>\n",
       "      <td>13</td>\n",
       "      <td>61</td>\n",
       "      <td>32</td>\n",
       "      <td>29</td>\n",
       "      <td>33</td>\n",
       "      <td>42</td>\n",
       "      <td>89</td>\n",
       "    </tr>\n",
       "  </tbody>\n",
       "</table>\n",
       "<p>2780 rows × 96 columns</p>\n",
       "</div>"
      ],
      "text/plain": [
       "tri_mut                   C>A_ACA C>A_ACC C>A_ACG C>A_ACT C>A_CCA C>A_CCC  \\\n",
       "Biliary-AdenoCA::SP117655     269     148      25     154     215     148   \n",
       "Biliary-AdenoCA::SP117556     114      56      13      70      63      49   \n",
       "Biliary-AdenoCA::SP117627     105      71      13      73      71      55   \n",
       "Biliary-AdenoCA::SP117775     217     123      29     126     129      82   \n",
       "Biliary-AdenoCA::SP117332      52      36       8      31      30      22   \n",
       "...                           ...     ...     ...     ...     ...     ...   \n",
       "Uterus-AdenoCA::SP92931       139      75      13      68      69      52   \n",
       "Uterus-AdenoCA::SP91265       404     255      52     281     339     170   \n",
       "Uterus-AdenoCA::SP89909        97      78      14      80     204     390   \n",
       "Uterus-AdenoCA::SP90629       250     188      49     202     194     124   \n",
       "Uterus-AdenoCA::SP95550       170     137      32     116     127     100   \n",
       "\n",
       "tri_mut                   C>A_CCG C>A_CCT C>A_GCA C>A_GCC  ... T>G_CTG  \\\n",
       "Biliary-AdenoCA::SP117655      27     180     165      76  ...      49   \n",
       "Biliary-AdenoCA::SP117556       7      69      81      37  ...      23   \n",
       "Biliary-AdenoCA::SP117627       8      61      61      50  ...       8   \n",
       "Biliary-AdenoCA::SP117775      26     143     162      84  ...      43   \n",
       "Biliary-AdenoCA::SP117332      10      38      21      25  ...       8   \n",
       "...                           ...     ...     ...     ...  ...     ...   \n",
       "Uterus-AdenoCA::SP92931        16      55      73      32  ...      23   \n",
       "Uterus-AdenoCA::SP91265        52     261     264     137  ...      88   \n",
       "Uterus-AdenoCA::SP89909        92     876      77      62  ...      75   \n",
       "Uterus-AdenoCA::SP90629        28     150     142      95  ...      87   \n",
       "Uterus-AdenoCA::SP95550        17     120     108      72  ...      49   \n",
       "\n",
       "tri_mut                   T>G_CTT T>G_GTA T>G_GTC T>G_GTG T>G_GTT T>G_TTA  \\\n",
       "Biliary-AdenoCA::SP117655     268      19      17      43      89      83   \n",
       "Biliary-AdenoCA::SP117556      53       8       5      20      15      26   \n",
       "Biliary-AdenoCA::SP117627      44       7       6      14      14      16   \n",
       "Biliary-AdenoCA::SP117775     132      21       7      28      34      38   \n",
       "Biliary-AdenoCA::SP117332      18       2       4       7       7      15   \n",
       "...                           ...     ...     ...     ...     ...     ...   \n",
       "Uterus-AdenoCA::SP92931        82       8       9      14      23      19   \n",
       "Uterus-AdenoCA::SP91265       230      57      32      97     118      83   \n",
       "Uterus-AdenoCA::SP89909        76      10       7      10      24      19   \n",
       "Uterus-AdenoCA::SP90629       197      42      35      72     113     108   \n",
       "Uterus-AdenoCA::SP95550        62      25      13      61      32      29   \n",
       "\n",
       "tri_mut                   T>G_TTC T>G_TTG T>G_TTT  \n",
       "Biliary-AdenoCA::SP117655      48      63     197  \n",
       "Biliary-AdenoCA::SP117556      10      31      64  \n",
       "Biliary-AdenoCA::SP117627       8      15      52  \n",
       "Biliary-AdenoCA::SP117775      30      53     122  \n",
       "Biliary-AdenoCA::SP117332       8      16      38  \n",
       "...                           ...     ...     ...  \n",
       "Uterus-AdenoCA::SP92931        13      25      66  \n",
       "Uterus-AdenoCA::SP91265        49     108     223  \n",
       "Uterus-AdenoCA::SP89909        17      34     106  \n",
       "Uterus-AdenoCA::SP90629        92     103     270  \n",
       "Uterus-AdenoCA::SP95550        33      42      89  \n",
       "\n",
       "[2780 rows x 96 columns]"
      ]
     },
     "execution_count": 14,
     "metadata": {},
     "output_type": "execute_result"
    }
   ],
   "source": [
    "X = PCAWG_wgs_mut_T.drop('label', axis=1).drop('tri_mut',axis=0).copy()\n",
    "X"
   ]
  },
  {
   "cell_type": "code",
   "execution_count": 15,
   "metadata": {
    "ExecuteTime": {
     "end_time": "2022-02-22T08:41:08.969245Z",
     "start_time": "2022-02-22T08:41:08.960607Z"
    }
   },
   "outputs": [
    {
     "data": {
      "text/plain": [
       "Biliary-AdenoCA::SP117655    Biliary-AdenoCA\n",
       "Biliary-AdenoCA::SP117556    Biliary-AdenoCA\n",
       "Biliary-AdenoCA::SP117627    Biliary-AdenoCA\n",
       "Biliary-AdenoCA::SP117775    Biliary-AdenoCA\n",
       "Biliary-AdenoCA::SP117332    Biliary-AdenoCA\n",
       "                                  ...       \n",
       "Uterus-AdenoCA::SP92931       Uterus-AdenoCA\n",
       "Uterus-AdenoCA::SP91265       Uterus-AdenoCA\n",
       "Uterus-AdenoCA::SP89909       Uterus-AdenoCA\n",
       "Uterus-AdenoCA::SP90629       Uterus-AdenoCA\n",
       "Uterus-AdenoCA::SP95550       Uterus-AdenoCA\n",
       "Name: label, Length: 2780, dtype: object"
      ]
     },
     "execution_count": 15,
     "metadata": {},
     "output_type": "execute_result"
    }
   ],
   "source": [
    "y = PCAWG_wgs_mut_T['label'][0:-1].copy()\n",
    "y"
   ]
  },
  {
   "cell_type": "markdown",
   "metadata": {},
   "source": [
    "mean = 0, deviation = 1:"
   ]
  },
  {
   "cell_type": "code",
   "execution_count": 16,
   "metadata": {
    "ExecuteTime": {
     "end_time": "2022-02-22T08:41:09.007750Z",
     "start_time": "2022-02-22T08:41:08.971227Z"
    }
   },
   "outputs": [
    {
     "name": "stdout",
     "output_type": "stream",
     "text": [
      "[[ 0.26449572  0.11676451 -0.00808088 ... -0.0228603   0.02963786\n",
      "  -0.04071118]\n",
      " [-0.16675437 -0.21686702 -0.15507003 ... -0.08308229 -0.09155652\n",
      "  -0.05328068]\n",
      " [-0.1917947  -0.16247057 -0.15507003 ... -0.08625187 -0.15215371\n",
      "  -0.05441477]\n",
      " ...\n",
      " [-0.21405277 -0.13708557 -0.14282093 ... -0.07198877 -0.08019455\n",
      "  -0.04931137]\n",
      " [ 0.21163281  0.2618217   0.28589742 ...  0.04687043  0.18113083\n",
      "  -0.03381214]\n",
      " [-0.01094789  0.07687379  0.07766279 ... -0.04663214 -0.04989595\n",
      "  -0.050918  ]]\n"
     ]
    }
   ],
   "source": [
    "scaled_X = scale(X)\n",
    "print(scaled_X)\n",
    "X_train_scaled, X_test_scaled, y_train, y_test = train_test_split(scaled_X,y, random_state=42)"
   ]
  },
  {
   "cell_type": "code",
   "execution_count": 17,
   "metadata": {
    "ExecuteTime": {
     "end_time": "2022-02-22T08:41:09.370504Z",
     "start_time": "2022-02-22T08:41:09.009194Z"
    }
   },
   "outputs": [
    {
     "data": {
      "text/plain": [
       "SVC(random_state=42)"
      ]
     },
     "execution_count": 17,
     "metadata": {},
     "output_type": "execute_result"
    }
   ],
   "source": [
    "clf_svm = SVC(random_state=42)\n",
    "clf_svm.fit(X_train_scaled, y_train)"
   ]
  },
  {
   "cell_type": "code",
   "execution_count": 18,
   "metadata": {
    "ExecuteTime": {
     "end_time": "2022-02-22T08:41:14.107565Z",
     "start_time": "2022-02-22T08:41:09.371850Z"
    },
    "scrolled": false
   },
   "outputs": [
    {
     "data": {
      "image/png": "[encoded data removed]",
      "text/plain": [
       "<Figure size 1080x1080 with 2 Axes>"
      ]
     },
     "metadata": {
      "needs_background": "light"
     },
     "output_type": "display_data"
    }
   ],
   "source": [
    "fig, ax = plt.subplots(figsize=(15, 15))\n",
    "plot_confusion_matrix(clf_svm, X_test_scaled, y_test, values_format = 'd', xticks_rotation = 'vertical', ax=ax)\n",
    "plt.show()"
   ]
  },
  {
   "cell_type": "markdown",
   "metadata": {},
   "source": [
    "Cross validation"
   ]
  },
  {
   "cell_type": "code",
   "execution_count": 19,
   "metadata": {
    "ExecuteTime": {
     "end_time": "2022-02-22T08:43:41.636758Z",
     "start_time": "2022-02-22T08:41:14.108832Z"
    }
   },
   "outputs": [
    {
     "name": "stderr",
     "output_type": "stream",
     "text": [
      "/home/milla/anaconda3/lib/python3.8/site-packages/sklearn/model_selection/_split.py:666: UserWarning: The least populated class in y has only 1 members, which is less than n_splits=5.\n",
      "  warnings.warn((\"The least populated class in y has only %d\"\n"
     ]
    },
    {
     "name": "stdout",
     "output_type": "stream",
     "text": [
      "{'C': 100, 'gamma': 'scale', 'kernel': 'linear'}\n"
     ]
    }
   ],
   "source": [
    "param_grid = [{ 'C':[0.5, 1, 10, 100], \n",
    "               'gamma': ['scale', 1, 0.1, 0.01, 0.001, 0.0001],\n",
    "              'kernel': ['linear', 'poly', 'rbf', 'sigmoid'] },\n",
    "             ]\n",
    "optimal_params = GridSearchCV(\n",
    "    SVC(),\n",
    "    param_grid,\n",
    "    cv = 5,\n",
    "    scoring='accuracy',\n",
    "    verbose = 0\n",
    ")\n",
    "optimal_params.fit(X_train_scaled, y_train)\n",
    "print(optimal_params.best_params_)"
   ]
  },
  {
   "cell_type": "code",
   "execution_count": 42,
   "metadata": {
    "ExecuteTime": {
     "end_time": "2022-02-22T09:36:51.976338Z",
     "start_time": "2022-02-22T09:36:51.627476Z"
    }
   },
   "outputs": [
    {
     "data": {
      "text/plain": [
       "SVC(C=100, kernel='linear', random_state=42)"
      ]
     },
     "execution_count": 42,
     "metadata": {},
     "output_type": "execute_result"
    }
   ],
   "source": [
    "clf_svm = SVC(random_state=42, C=100, gamma = 'scale', kernel='linear')\n",
    "clf_svm.fit(X_train_scaled, y_train)"
   ]
  },
  {
   "cell_type": "code",
   "execution_count": 43,
   "metadata": {
    "ExecuteTime": {
     "end_time": "2022-02-22T09:36:58.025789Z",
     "start_time": "2022-02-22T09:36:53.188154Z"
    },
    "scrolled": false
   },
   "outputs": [
    {
     "data": {
      "image/png": "[encoded data removed]",
      "text/plain": [
       "<Figure size 1080x1080 with 2 Axes>"
      ]
     },
     "metadata": {
      "needs_background": "light"
     },
     "output_type": "display_data"
    }
   ],
   "source": [
    "fig, ax = plt.subplots(figsize=(15, 15))\n",
    "plot_confusion_matrix(clf_svm, X_test_scaled, y_test, values_format = 'd', xticks_rotation = 'vertical', ax=ax)\n",
    "plt.show()"
   ]
  },
  {
   "cell_type": "code",
   "execution_count": 44,
   "metadata": {
    "ExecuteTime": {
     "end_time": "2022-02-22T09:37:04.770010Z",
     "start_time": "2022-02-22T09:37:04.664692Z"
    }
   },
   "outputs": [
    {
     "data": {
      "text/plain": [
       "0.7237410071942446"
      ]
     },
     "execution_count": 44,
     "metadata": {},
     "output_type": "execute_result"
    }
   ],
   "source": [
    "clf_svm.score(X_test_scaled, y_test)"
   ]
  },
  {
   "cell_type": "markdown",
   "metadata": {},
   "source": [
    "Pricipal componen analysis"
   ]
  },
  {
   "cell_type": "code",
   "execution_count": 23,
   "metadata": {
    "ExecuteTime": {
     "end_time": "2022-02-22T08:43:46.776651Z",
     "start_time": "2022-02-22T08:43:46.773348Z"
    }
   },
   "outputs": [
    {
     "data": {
      "text/plain": [
       "97"
      ]
     },
     "execution_count": 23,
     "metadata": {},
     "output_type": "execute_result"
    }
   ],
   "source": [
    "len(PCAWG_wgs_mut_T.columns)"
   ]
  },
  {
   "cell_type": "code",
   "execution_count": 24,
   "metadata": {
    "ExecuteTime": {
     "end_time": "2022-02-22T08:43:47.021457Z",
     "start_time": "2022-02-22T08:43:46.778803Z"
    }
   },
   "outputs": [
    {
     "data": {
      "image/png": "[encoded data removed]",
      "text/plain": [
       "<Figure size 432x288 with 1 Axes>"
      ]
     },
     "metadata": {
      "needs_background": "light"
     },
     "output_type": "display_data"
    }
   ],
   "source": [
    "pca = PCA()\n",
    "X_train_pca = pca.fit_transform(X_train_scaled)\n",
    "\n",
    "per_var = np.round(pca.explained_variance_ratio_*100, decimals=1)\n",
    "labels = [str(x) for x in range(1, len(per_var) +1)]\n",
    "\n",
    "plt.bar(x = range(1,len(per_var)+1), height= per_var)\n",
    "plt.tick_params(\n",
    "    axis = 'x',\n",
    "    which = 'both',\n",
    "    bottom = False,\n",
    "    top = False,\n",
    "    labelbottom = False)\n",
    "plt.show()"
   ]
  },
  {
   "cell_type": "code",
   "execution_count": 25,
   "metadata": {
    "ExecuteTime": {
     "end_time": "2022-02-22T08:44:22.548159Z",
     "start_time": "2022-02-22T08:43:47.023188Z"
    }
   },
   "outputs": [
    {
     "name": "stderr",
     "output_type": "stream",
     "text": [
      "/home/milla/anaconda3/lib/python3.8/site-packages/sklearn/model_selection/_split.py:666: UserWarning: The least populated class in y has only 1 members, which is less than n_splits=5.\n",
      "  warnings.warn((\"The least populated class in y has only %d\"\n"
     ]
    },
    {
     "name": "stdout",
     "output_type": "stream",
     "text": [
      "{'C': 1000, 'gamma': 1, 'kernel': 'rbf'}\n"
     ]
    }
   ],
   "source": [
    "train_pc1_coords = X_train_pca[:, 0]\n",
    "train_pc2_coords = X_train_pca[:, 1]\n",
    "\n",
    "pca_train_scaled = scale(np.column_stack((train_pc1_coords, train_pc2_coords)))\n",
    "\n",
    "param_grid = [{ 'C':[1, 10, 100, 1000], \n",
    "               'gamma': ['scale', 1, 0.1, 0.01, 0.001, 0.0001],\n",
    "              'kernel': ['rbf'] },\n",
    "             ]\n",
    "optimal_params = GridSearchCV(\n",
    "    SVC(),\n",
    "    param_grid,\n",
    "    cv = 5,\n",
    "    scoring='accuracy',\n",
    "    verbose = 0\n",
    ")\n",
    "optimal_params.fit(pca_train_scaled, y_train)\n",
    "print(optimal_params.best_params_)"
   ]
  },
  {
   "cell_type": "code",
   "execution_count": 26,
   "metadata": {
    "ExecuteTime": {
     "end_time": "2022-02-22T08:44:23.504835Z",
     "start_time": "2022-02-22T08:44:22.549502Z"
    }
   },
   "outputs": [
    {
     "data": {
      "text/plain": [
       "SVC(C=1000, gamma=1, random_state=42)"
      ]
     },
     "execution_count": 26,
     "metadata": {},
     "output_type": "execute_result"
    }
   ],
   "source": [
    "clf_svm = SVC(random_state=42, C=1000, gamma = 1)\n",
    "clf_svm.fit(pca_train_scaled, y_train)"
   ]
  },
  {
   "cell_type": "code",
   "execution_count": 27,
   "metadata": {
    "ExecuteTime": {
     "end_time": "2022-02-22T08:44:23.522261Z",
     "start_time": "2022-02-22T08:44:23.506102Z"
    }
   },
   "outputs": [],
   "source": [
    "X_test_pca = pca.transform(X_train_scaled)\n",
    "test_pc1_coords = X_test_pca[:, 0]\n",
    "test_pc2_coords = X_test_pca[:, 1]\n",
    "\n",
    "x_min = test_pc1_coords.min() -1\n",
    "x_max = test_pc1_coords.max() + 1\n",
    "\n",
    "y_min = test_pc2_coords.min() -1\n",
    "y_max = test_pc2_coords.max() + 1\n",
    "\n",
    "xx, yy = np.meshgrid(np.arange(start = x_min, stop = x_max, step = 0.1), \n",
    "                    np.arange(start = y_min, stop= y_max, step=0.1))"
   ]
  },
  {
   "cell_type": "code",
   "execution_count": null,
   "metadata": {
    "ExecuteTime": {
     "end_time": "2022-02-18T10:34:11.167641Z",
     "start_time": "2022-02-18T10:34:11.164150Z"
    }
   },
   "outputs": [],
   "source": []
  },
  {
   "cell_type": "code",
   "execution_count": 28,
   "metadata": {
    "ExecuteTime": {
     "end_time": "2022-02-22T08:44:23.525796Z",
     "start_time": "2022-02-22T08:44:23.523745Z"
    }
   },
   "outputs": [],
   "source": [
    "#Z = clf_svm.predict(np.column_stack((xx.ravel(), yy.ravel())))\n",
    "\n",
    "#Z = Z.reshape(xx.shape)"
   ]
  },
  {
   "cell_type": "code",
   "execution_count": null,
   "metadata": {},
   "outputs": [],
   "source": []
  },
  {
   "cell_type": "code",
   "execution_count": null,
   "metadata": {},
   "outputs": [],
   "source": []
  },
  {
   "cell_type": "code",
   "execution_count": 29,
   "metadata": {
    "ExecuteTime": {
     "end_time": "2022-02-22T08:44:23.528884Z",
     "start_time": "2022-02-22T08:44:23.527105Z"
    }
   },
   "outputs": [],
   "source": [
    "#ax.contourf(xx, yy, Z, alpha = 0.1)\n",
    "#cmap =  colors.ListedColormap(['#e41a1c', '#4daf4a'])\n",
    "#plt.figure(figsize=(15, 15))\n",
    "#plt.scatter(test_pc1_coords, test_pc2_coords,  c=[x for x in range(len(y_train))], cmap=cmap, s=100, edgecolors='k', alpha=0.7)\n",
    "#plt.show()"
   ]
  },
  {
   "cell_type": "code",
   "execution_count": 30,
   "metadata": {
    "ExecuteTime": {
     "end_time": "2022-02-22T08:44:23.532029Z",
     "start_time": "2022-02-22T08:44:23.530170Z"
    }
   },
   "outputs": [],
   "source": [
    "# c=[x for x in range(len(y_train))]"
   ]
  }
 ],
 "metadata": {
  "kernelspec": {
   "display_name": "Python 3",
   "language": "python",
   "name": "python3"
  },
  "language_info": {
   "codemirror_mode": {
    "name": "ipython",
    "version": 3
   },
   "file_extension": ".py",
   "mimetype": "text/x-python",
   "name": "python",
   "nbconvert_exporter": "python",
   "pygments_lexer": "ipython3",
   "version": "3.8.8"
  },
  "varInspector": {
   "cols": {
    "lenName": 16,
    "lenType": 16,
    "lenVar": 40
   },
   "kernels_config": {
    "python": {
     "delete_cmd_postfix": "",
     "delete_cmd_prefix": "del ",
     "library": "var_list.py",
     "varRefreshCmd": "print(var_dic_list())"
    },
    "r": {
     "delete_cmd_postfix": ") ",
     "delete_cmd_prefix": "rm(",
     "library": "var_list.r",
     "varRefreshCmd": "cat(var_dic_list()) "
    }
   },
   "types_to_exclude": [
    "module",
    "function",
    "builtin_function_or_method",
    "instance",
    "_Feature"
   ],
   "window_display": false
  }
 },
 "nbformat": 4,
 "nbformat_minor": 4
}
